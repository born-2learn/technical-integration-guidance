{
 "cells": [
  {
   "cell_type": "markdown",
   "metadata": {},
   "source": [
    "# Qiskit Runtime REST API query & job submission"
   ]
  },
  {
   "cell_type": "markdown",
   "metadata": {},
   "source": [
    "* https://us-east.quantum-computing.cloud.ibm.com/openapi/ \n",
    "* General documentation at https://cloud.ibm.com/apidocs/quantum-computing \n",
    "* Users needs to [create an account through IBM Cloud Qiskit Runtime Service and access the API key and Cloud Resource Name (CRN)](https://cloud.ibm.com/apidocs/quantum-computing#authentication). "
   ]
  },
  {
   "cell_type": "markdown",
   "metadata": {},
   "source": [
    "## Authenticate via IBM Cloud API key and Cloud Resource Name"
   ]
  },
  {
   "cell_type": "code",
   "execution_count": 15,
   "metadata": {},
   "outputs": [],
   "source": [
    "with open('cloud_token') as file:\n",
    "    token=file.read()\n",
    "with open('crn_service') as file:\n",
    "    crn_service = file.read()"
   ]
  },
  {
   "cell_type": "code",
   "execution_count": 23,
   "metadata": {},
   "outputs": [],
   "source": [
    "url = 'https://iam.cloud.ibm.com/identity/token'\n",
    "headers = {'Content-Type': 'application/x-www-form-urlencoded'}\n",
    "data='grant_type=urn:ibm:params:oauth:grant-type:apikey&apikey='+token\n",
    "auth_response = requests.post(url, headers= headers, data=data)\n",
    "auth_id=auth_response.json()['access_token']\n",
    "auth_type = auth_response.json()['token_type']"
   ]
  },
  {
   "cell_type": "markdown",
   "metadata": {},
   "source": [
    "## GET available backends"
   ]
  },
  {
   "cell_type": "code",
   "execution_count": 17,
   "metadata": {},
   "outputs": [
    {
     "data": {
      "text/plain": [
       "{'devices': ['ibm_algiers',\n",
       "  'ibm_brisbane',\n",
       "  'ibm_kyoto',\n",
       "  'ibm_osaka',\n",
       "  'ibmq_qasm_simulator',\n",
       "  'simulator_stabilizer',\n",
       "  'simulator_mps',\n",
       "  'simulator_extended_stabilizer',\n",
       "  'simulator_statevector']}"
      ]
     },
     "execution_count": 17,
     "metadata": {},
     "output_type": "execute_result"
    }
   ],
   "source": [
    "url_backends = 'https://us-east.quantum-computing.cloud.ibm.com/backends'\n",
    "headers = { 'Content-Type': 'application/json',\n",
    "            'Service-CRN': crn_service,\n",
    "            'Authorization':auth_type + ' ' + auth_id}\n",
    "\n",
    "backends_response = requests.get(url_backends, headers=headers)\n",
    "backends_response.json()"
   ]
  },
  {
   "cell_type": "code",
   "execution_count": 18,
   "metadata": {},
   "outputs": [
    {
     "data": {
      "text/plain": [
       "'ibm_algiers'"
      ]
     },
     "execution_count": 18,
     "metadata": {},
     "output_type": "execute_result"
    }
   ],
   "source": [
    "backend = backends_response.json()['devices'][0]\n",
    "backend"
   ]
  },
  {
   "cell_type": "markdown",
   "metadata": {},
   "source": [
    "## Run a job"
   ]
  },
  {
   "cell_type": "markdown",
   "metadata": {},
   "source": [
    "### set up qasm circuit"
   ]
  },
  {
   "cell_type": "code",
   "execution_count": 19,
   "metadata": {},
   "outputs": [],
   "source": [
    "qasm_string='''\n",
    "OPENQASM 3;\n",
    "include \"stdgates.inc\";\n",
    "qreg q[1];\n",
    "creg c[1];\n",
    "x q[0];\n",
    "c[0] = measure q[0]; \n",
    "'''   "
   ]
  },
  {
   "cell_type": "markdown",
   "metadata": {},
   "source": [
    "### run circuit via API"
   ]
  },
  {
   "cell_type": "code",
   "execution_count": 20,
   "metadata": {},
   "outputs": [
    {
     "name": "stdout",
     "output_type": "stream",
     "text": [
      "Job created: {\"id\":\"cmfsca0mogjisssgndv0\",\"backend\":\"ibm_algiers\",\"session_id\":\"cmfsca0mogjisssgndv0\"}\n"
     ]
    }
   ],
   "source": [
    "import requests\n",
    "\n",
    "url = 'https://us-east.quantum-computing.cloud.ibm.com/jobs'\n",
    "\n",
    "headers = { 'Content-Type': 'application/json',\n",
    "            'Service-CRN': crn_service,\n",
    "            'Authorization':auth_type + ' ' + auth_id,\n",
    "            'x-qx-client-application': 'qiskit-version-2/0.39.2/'+'your_application' #specifying the application you might be running from. For an actual Integration project, this option it is invaluable to know where jobs are coming from. At this time the \"qiskit-version-2/0.39.2/\" string is a necessary prefix.\n",
    "            }\n",
    "\n",
    "job_input = {\n",
    "    'program_id': 'sampler',\n",
    "    \"backend\": backend, #Sessions work best with real backends (QCs)\n",
    "    \"start_session\": True, #set to False if you just need to run a single job. When addressing simulators, comment out this line. \n",
    "    \"params\": {\n",
    "        \"circuits\": [qasm_string]#*5\n",
    "}}\n",
    "\n",
    "response = requests.post(url, headers=headers, json=job_input)\n",
    "\n",
    "if response.status_code == 200:\n",
    "    job_id = response.json().get('id')\n",
    "    print(\"Job created:\",response.text)\n",
    "else:\n",
    "    print(f\"Error: {response.status_code, response.text}\")"
   ]
  },
  {
   "cell_type": "markdown",
   "metadata": {},
   "source": [
    "### Run follow-up jobs in the same Session (optional)"
   ]
  },
  {
   "cell_type": "code",
   "execution_count": 21,
   "metadata": {},
   "outputs": [
    {
     "name": "stdout",
     "output_type": "stream",
     "text": [
      "Job created: {\"id\":\"cmfscc0mogjisssgne10\",\"backend\":\"ibm_algiers\",\"session_id\":\"cmfsca0mogjisssgndv0\"}\n"
     ]
    }
   ],
   "source": [
    "job_input = {\n",
    "    'program_id': 'sampler',\n",
    "    \"backend\": response.json()['backend'],\n",
    "    \"params\": {\n",
    "        \"circuits\": [qasm_string]*5\n",
    "}}\n",
    "\n",
    "if 'session_id' in response.json().keys():\n",
    "  session_id=response.json()['session_id']\n",
    "  job_input['session_id'] = session_id\n",
    "  \n",
    "response = requests.post(url, headers=headers, json=job_input)\n",
    "\n",
    "if response.status_code == 200:\n",
    "    job_id = response.json().get('id')\n",
    "    print(\"Job created:\",response.text)\n",
    "else:\n",
    "    print(f\"Error: {response.status_code}\")"
   ]
  },
  {
   "cell_type": "markdown",
   "metadata": {},
   "source": [
    "### Query Websocket for live job update and close Session\n",
    "\n",
    "It is very good practice to close a Session when all jobs are done. This will reduce wait time for subsequent Users. So we will listen for a status change of the last job via websocket and close the Session when done."
   ]
  },
  {
   "cell_type": "code",
   "execution_count": null,
   "metadata": {},
   "outputs": [],
   "source": [
    "import asyncio\n",
    "import websockets\n",
    "\n",
    "async def receive_status_updates(api_key):\n",
    "    uri = \"wss://us-east.quantum-computing.cloud.ibm.com/stream/jobs/\"+job_id \n",
    "    extra_headers = {'Authorization': f'Bearer {api_key}',\n",
    "                     'Service-CRN': crn_service}\n",
    "\n",
    "    async with websockets.connect(uri, extra_headers=extra_headers) as websocket:\n",
    "        while True:\n",
    "            try:\n",
    "                message = await websocket.recv()\n",
    "                print(f\"Received message: {message}\")  \n",
    "            except websockets.exceptions.ConnectionClosed:\n",
    "                print(\"WebSocket connection closed.\")\n",
    "                break\n",
    "\n",
    "await receive_status_updates(auth_id)\n",
    "\n",
    "#subsequently closing Session\n",
    "status_result = requests.get(url+'/'+job_id,headers=headers)\n",
    "sessionsurl = 'https://runtime-us-east.quantum-computing.ibm.com/sessions/'+session_id+'/close'\n",
    "\n",
    "if status_result.json()['state']['status']=='Completed':\n",
    "   response = requests.delete(sessionsurl,headers=headers)\n",
    "else:\n",
    "   print('waiting for job to complete before closing Session '+session_id)\n",
    "\n",
    "if response.status_code==204:\n",
    "    print('Session '+session_id+' was closed')"
   ]
  },
  {
   "cell_type": "markdown",
   "metadata": {},
   "source": [
    "### Get results"
   ]
  },
  {
   "cell_type": "code",
   "execution_count": 28,
   "metadata": {},
   "outputs": [
    {
     "data": {
      "text/plain": [
       "{'quasi_dists': [{'0': 0.002374284670644156, '1': 0.997625715329356},\n",
       "  {'0': -0.002191647388286806, '1': 1.0021916473882868},\n",
       "  {'0': -0.002445310280449637, '1': 1.0024453102804496},\n",
       "  {'0': 0.003896262023621144, '1': 0.9961037379763789},\n",
       "  {'0': -0.0009233329274726501, '1': 1.0009233329274727}],\n",
       " 'metadata': [{'shots': 4000,\n",
       "   'circuit_metadata': {},\n",
       "   'readout_mitigation_overhead': 1.0333924314440097,\n",
       "   'readout_mitigation_time': 0.038907336071133614},\n",
       "  {'shots': 4000,\n",
       "   'circuit_metadata': {},\n",
       "   'readout_mitigation_overhead': 1.0333924314440097,\n",
       "   'readout_mitigation_time': 0.0004875538870692253},\n",
       "  {'shots': 4000,\n",
       "   'circuit_metadata': {},\n",
       "   'readout_mitigation_overhead': 1.0333924314440097,\n",
       "   'readout_mitigation_time': 0.0003698021173477173},\n",
       "  {'shots': 4000,\n",
       "   'circuit_metadata': {},\n",
       "   'readout_mitigation_overhead': 1.0333924314440097,\n",
       "   'readout_mitigation_time': 0.001236913725733757},\n",
       "  {'shots': 4000,\n",
       "   'circuit_metadata': {},\n",
       "   'readout_mitigation_overhead': 1.0333924314440097,\n",
       "   'readout_mitigation_time': 0.1012179721146822}]}"
      ]
     },
     "execution_count": 28,
     "metadata": {},
     "output_type": "execute_result"
    }
   ],
   "source": [
    "response_result= requests.get(url+'/'+job_id+'/results', headers=headers)\n",
    "\n",
    "response_result.json()"
   ]
  }
 ],
 "metadata": {
  "kernelspec": {
   "display_name": "qiskitEnvironment",
   "language": "python",
   "name": "python3"
  },
  "language_info": {
   "codemirror_mode": {
    "name": "ipython",
    "version": 3
   },
   "file_extension": ".py",
   "mimetype": "text/x-python",
   "name": "python",
   "nbconvert_exporter": "python",
   "pygments_lexer": "ipython3",
   "version": "3.12.0"
  },
  "orig_nbformat": 4,
  "vscode": {
   "interpreter": {
    "hash": "1f34ebf922ea70f2437b8214c42897c80e17c505733c5bc7beb7fdf0e25edb45"
   }
  }
 },
 "nbformat": 4,
 "nbformat_minor": 2
}
