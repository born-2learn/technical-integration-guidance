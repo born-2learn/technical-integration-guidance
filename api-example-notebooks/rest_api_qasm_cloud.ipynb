{
 "cells": [
  {
   "cell_type": "markdown",
   "metadata": {},
   "source": [
    "# Qiskit Runtime REST API query & job submission"
   ]
  },
  {
   "cell_type": "markdown",
   "metadata": {},
   "source": [
    "## Query API without authentication"
   ]
  },
  {
   "cell_type": "code",
   "execution_count": 16,
   "metadata": {},
   "outputs": [],
   "source": [
    "import requests\n",
    "\n",
    "url = 'https://us-east.quantum-computing.cloud.ibm.com/programs'\n",
    "response = requests.get(url)\n",
    "\n",
    "if response.status_code == 200:\n",
    "    data = response.json()\n",
    "else:\n",
    "    print(f\"Error: {response.status_code}\")"
   ]
  },
  {
   "cell_type": "code",
   "execution_count": 17,
   "metadata": {},
   "outputs": [
    {
     "data": {
      "text/plain": [
       "['sampler', 'estimator']"
      ]
     },
     "execution_count": 17,
     "metadata": {},
     "output_type": "execute_result"
    }
   ],
   "source": [
    "[program['id'] for program in data['programs']]"
   ]
  },
  {
   "cell_type": "markdown",
   "metadata": {},
   "source": [
    "## Get temporary Access token from Auth API via API Token"
   ]
  },
  {
   "cell_type": "code",
   "execution_count": 3,
   "metadata": {},
   "outputs": [],
   "source": [
    "token = 'API_Token'\n",
    "crn_service = 'CRN Service'"
   ]
  },
  {
   "cell_type": "code",
   "execution_count": 4,
   "metadata": {},
   "outputs": [],
   "source": [
    "import requests\n",
    "\n",
    "# with open('token') as file:\n",
    "#     token=file.read()\n",
    "\n",
    "url = 'https://iam.cloud.ibm.com/identity/token'\n",
    "headers = {'Content-Type': 'application/x-www-form-urlencoded'}\n",
    "data='grant_type=urn:ibm:params:oauth:grant-type:apikey&apikey='+token\n",
    "auth_response = requests.post(url, headers= headers, data=data)\n",
    "auth_id=auth_response.json()['access_token']\n",
    "auth_type = auth_response.json()['token_type']"
   ]
  },
  {
   "cell_type": "code",
   "execution_count": 18,
   "metadata": {},
   "outputs": [],
   "source": [
    "# auth_response.json()"
   ]
  },
  {
   "cell_type": "markdown",
   "metadata": {},
   "source": [
    "## GET available backends"
   ]
  },
  {
   "cell_type": "code",
   "execution_count": 7,
   "metadata": {},
   "outputs": [],
   "source": [
    "url_backends = 'https://us-east.quantum-computing.cloud.ibm.com/backends'\n",
    "headers = { 'Content-Type': 'application/json',\n",
    "            'Service-CRN': crn_service,\n",
    "            'Authorization':auth_type + ' ' + auth_id}\n",
    "\n",
    "backends_response = requests.get(url_backends, headers=headers)"
   ]
  },
  {
   "cell_type": "code",
   "execution_count": 8,
   "metadata": {},
   "outputs": [
    {
     "data": {
      "text/plain": [
       "{'devices': ['ibm_algiers',\n",
       "  'ibm_brisbane',\n",
       "  'ibmq_qasm_simulator',\n",
       "  'simulator_stabilizer',\n",
       "  'simulator_mps',\n",
       "  'simulator_extended_stabilizer',\n",
       "  'simulator_statevector']}"
      ]
     },
     "execution_count": 8,
     "metadata": {},
     "output_type": "execute_result"
    }
   ],
   "source": [
    "backends_response.json()"
   ]
  },
  {
   "cell_type": "code",
   "execution_count": 9,
   "metadata": {},
   "outputs": [
    {
     "data": {
      "text/plain": [
       "'ibmq_qasm_simulator'"
      ]
     },
     "execution_count": 9,
     "metadata": {},
     "output_type": "execute_result"
    }
   ],
   "source": [
    "backend = backends_response.json()['devices'][2]\n",
    "backend"
   ]
  },
  {
   "cell_type": "markdown",
   "metadata": {},
   "source": [
    "## Run a job"
   ]
  },
  {
   "cell_type": "markdown",
   "metadata": {},
   "source": [
    "### set up qasm circuit"
   ]
  },
  {
   "cell_type": "code",
   "execution_count": 10,
   "metadata": {},
   "outputs": [],
   "source": [
    "qasm_string='''\n",
    "OPENQASM 3;\n",
    "include \"stdgates.inc\";\n",
    "qreg q[1];\n",
    "creg c[1];\n",
    "x q[0];\n",
    "c[0] = measure q[0]; \n",
    "'''   "
   ]
  },
  {
   "cell_type": "markdown",
   "metadata": {},
   "source": [
    "### run circuit via API"
   ]
  },
  {
   "cell_type": "code",
   "execution_count": 11,
   "metadata": {},
   "outputs": [
    {
     "name": "stdout",
     "output_type": "stream",
     "text": [
      "Job created: {\"id\":\"ck6qehjl5r7th0mrmk7g\",\"backend\":\"ibmq_qasm_simulator\"}\n"
     ]
    }
   ],
   "source": [
    "import requests\n",
    "\n",
    "url = 'https://us-east.quantum-computing.cloud.ibm.com/jobs'\n",
    "\n",
    "headers = { 'Content-Type': 'application/json',\n",
    "            'Service-CRN': crn_service,\n",
    "            'Authorization':auth_type + ' ' + auth_id}\n",
    "\n",
    "job_input = {\n",
    "    'program_id': 'sampler',\n",
    "    \"backend\": backend,\n",
    "    \"start_session\": False,\n",
    "    \"params\": {\n",
    "        \"circuits\": [qasm_string]\n",
    "}}\n",
    "\n",
    "response = requests.post(url, headers=headers, json=job_input)\n",
    "\n",
    "if response.status_code == 200:\n",
    "    job_id = response.json().get('id')\n",
    "    print(\"Job created:\",response.text)\n",
    "else:\n",
    "    print(f\"Error: {response.status_code}\")"
   ]
  },
  {
   "cell_type": "markdown",
   "metadata": {},
   "source": [
    "## Wait for results"
   ]
  },
  {
   "cell_type": "code",
   "execution_count": 15,
   "metadata": {},
   "outputs": [
    {
     "name": "stdout",
     "output_type": "stream",
     "text": [
      "{'status': 'Completed'} ck6qehjl5r7th0mrmk7g\n"
     ]
    }
   ],
   "source": [
    "status_result = requests.get(url+'/'+job_id,headers=headers)\n",
    "print(status_result.json()['state'],job_id)"
   ]
  },
  {
   "cell_type": "markdown",
   "metadata": {},
   "source": [
    "### Get results"
   ]
  },
  {
   "cell_type": "code",
   "execution_count": 16,
   "metadata": {},
   "outputs": [
    {
     "data": {
      "text/plain": [
       "{'quasi_dists': [{'1': 1.0}],\n",
       " 'metadata': [{'shots': 1024,\n",
       "   'readout_mitigation_overhead': 1.0,\n",
       "   'readout_mitigation_time': 0.06403936599963345}]}"
      ]
     },
     "execution_count": 16,
     "metadata": {},
     "output_type": "execute_result"
    }
   ],
   "source": [
    "response_result= requests.get(url+'/'+job_id+'/results', headers=headers)\n",
    "\n",
    "response_result.json()"
   ]
  },
  {
   "cell_type": "markdown",
   "metadata": {},
   "source": [
    "## Invalidate Token (Optional)"
   ]
  },
  {
   "cell_type": "code",
   "execution_count": 17,
   "metadata": {},
   "outputs": [
    {
     "name": "stdout",
     "output_type": "stream",
     "text": [
      "response ok?: True \n"
     ]
    }
   ],
   "source": [
    "logout_url = 'https://us-east.quantum-computing.cloud.ibm.com/logout'\n",
    "\n",
    "headers = { 'Content-Type': 'application/json',\n",
    "            'Service-CRN': crn_service,\n",
    "            'Authorization':auth_type + ' ' + auth_id}\n",
    "\n",
    "logout_response = requests.post(logout_url, headers=headers)\n",
    "print(\"response ok?:\",logout_response.ok,logout_response.text)"
   ]
  }
 ],
 "metadata": {
  "kernelspec": {
   "display_name": "qiskitEnvironment",
   "language": "python",
   "name": "python3"
  },
  "language_info": {
   "codemirror_mode": {
    "name": "ipython",
    "version": 3
   },
   "file_extension": ".py",
   "mimetype": "text/x-python",
   "name": "python",
   "nbconvert_exporter": "python",
   "pygments_lexer": "ipython3",
   "version": "3.10.8"
  },
  "orig_nbformat": 4,
  "vscode": {
   "interpreter": {
    "hash": "1f34ebf922ea70f2437b8214c42897c80e17c505733c5bc7beb7fdf0e25edb45"
   }
  }
 },
 "nbformat": 4,
 "nbformat_minor": 2
}
