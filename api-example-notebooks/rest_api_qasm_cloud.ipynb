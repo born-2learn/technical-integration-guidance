{
 "cells": [
  {
   "cell_type": "markdown",
   "metadata": {},
   "source": [
    "# Qiskit Runtime REST API query & job submission"
   ]
  },
  {
   "cell_type": "markdown",
   "metadata": {},
   "source": [
    "## Query API without authentication"
   ]
  },
  {
   "cell_type": "code",
   "execution_count": 52,
   "metadata": {},
   "outputs": [],
   "source": [
    "import requests\n",
    "\n",
    "url = 'https://us-east.quantum-computing.cloud.ibm.com/programs'\n",
    "response = requests.get(url)\n",
    "\n",
    "if response.status_code == 200:\n",
    "    data = response.json()\n",
    "else:\n",
    "    print(f\"Error: {response.status_code}\")"
   ]
  },
  {
   "cell_type": "code",
   "execution_count": 53,
   "metadata": {},
   "outputs": [
    {
     "data": {
      "text/plain": [
       "['qasm3-runner', 'circuit-runner', 'sampler', 'estimator']"
      ]
     },
     "execution_count": 53,
     "metadata": {},
     "output_type": "execute_result"
    }
   ],
   "source": [
    "[program['id'] for program in data['programs']]"
   ]
  },
  {
   "cell_type": "markdown",
   "metadata": {},
   "source": [
    "## Get temporary Access token from Auth API via API Token"
   ]
  },
  {
   "cell_type": "code",
   "execution_count": 54,
   "metadata": {},
   "outputs": [],
   "source": [
    "with open('cloud_token') as file:\n",
    "    token=file.read()\n",
    "with open('crn_service') as file:\n",
    "    crn_service = file.read()"
   ]
  },
  {
   "cell_type": "code",
   "execution_count": 55,
   "metadata": {},
   "outputs": [],
   "source": [
    "import requests\n",
    "\n",
    "url = 'https://iam.cloud.ibm.com/identity/token'\n",
    "headers = {'Content-Type': 'application/x-www-form-urlencoded'}\n",
    "data='grant_type=urn:ibm:params:oauth:grant-type:apikey&apikey='+token\n",
    "auth_response = requests.post(url, headers= headers, data=data)\n",
    "auth_id=auth_response.json()['access_token']\n",
    "auth_type = auth_response.json()['token_type']"
   ]
  },
  {
   "cell_type": "markdown",
   "metadata": {},
   "source": [
    "## GET available backends"
   ]
  },
  {
   "cell_type": "code",
   "execution_count": 56,
   "metadata": {},
   "outputs": [
    {
     "data": {
      "text/plain": [
       "{'devices': ['ibm_algiers',\n",
       "  'ibm_brisbane',\n",
       "  'ibmq_qasm_simulator',\n",
       "  'simulator_stabilizer',\n",
       "  'simulator_mps',\n",
       "  'simulator_extended_stabilizer',\n",
       "  'simulator_statevector']}"
      ]
     },
     "execution_count": 56,
     "metadata": {},
     "output_type": "execute_result"
    }
   ],
   "source": [
    "url_backends = 'https://us-east.quantum-computing.cloud.ibm.com/backends'\n",
    "headers = { 'Content-Type': 'application/json',\n",
    "            'Service-CRN': crn_service,\n",
    "            'Authorization':auth_type + ' ' + auth_id}\n",
    "\n",
    "backends_response = requests.get(url_backends, headers=headers)\n",
    "backends_response.json()"
   ]
  },
  {
   "cell_type": "code",
   "execution_count": 57,
   "metadata": {},
   "outputs": [
    {
     "data": {
      "text/plain": [
       "'ibm_algiers'"
      ]
     },
     "execution_count": 57,
     "metadata": {},
     "output_type": "execute_result"
    }
   ],
   "source": [
    "backend = backends_response.json()['devices'][0]\n",
    "backend"
   ]
  },
  {
   "cell_type": "markdown",
   "metadata": {},
   "source": [
    "## Run a job"
   ]
  },
  {
   "cell_type": "markdown",
   "metadata": {},
   "source": [
    "### set up qasm circuit"
   ]
  },
  {
   "cell_type": "code",
   "execution_count": 58,
   "metadata": {},
   "outputs": [],
   "source": [
    "qasm_string='''\n",
    "OPENQASM 3;\n",
    "include \"stdgates.inc\";\n",
    "qreg q[1];\n",
    "creg c[1];\n",
    "x q[0];\n",
    "c[0] = measure q[0]; \n",
    "'''   "
   ]
  },
  {
   "cell_type": "markdown",
   "metadata": {},
   "source": [
    "### run circuit via API"
   ]
  },
  {
   "cell_type": "code",
   "execution_count": 59,
   "metadata": {},
   "outputs": [
    {
     "name": "stdout",
     "output_type": "stream",
     "text": [
      "Job created: {\"id\":\"cl9pitd4nd4s6h1fo0vg\",\"backend\":\"ibm_algiers\",\"session_id\":\"cl9pitd4nd4s6h1fo0vg\"}\n"
     ]
    }
   ],
   "source": [
    "import requests\n",
    "\n",
    "url = 'https://us-east.quantum-computing.cloud.ibm.com/jobs'\n",
    "\n",
    "headers = { 'Content-Type': 'application/json',\n",
    "            'Service-CRN': crn_service,\n",
    "            'Authorization':auth_type + ' ' + auth_id,\n",
    "            'x-qx-client-application': 'qiskit-version-2/0.39.2/'+'your_application' #specifying the application you might be running from. For an actual Integration project, this option it is invaluable to know where jobs are coming from. At this time the \"qiskit-version-2/0.39.2/\" string is a necessary prefix.\n",
    "            }\n",
    "\n",
    "job_input = {\n",
    "    'program_id': 'sampler',\n",
    "    \"backend\": backend, #Sessions work best with real backends (QCs)\n",
    "    \"start_session\": True, #set to False if you just need to run a single job. When addressing simulators, comment out this line. \n",
    "    \"params\": {\n",
    "        \"circuits\": [qasm_string]#*5\n",
    "}}\n",
    "\n",
    "response = requests.post(url, headers=headers, json=job_input)\n",
    "\n",
    "if response.status_code == 200:\n",
    "    job_id = response.json().get('id')\n",
    "    print(\"Job created:\",response.text)\n",
    "else:\n",
    "    print(f\"Error: {response.status_code, response.text}\")"
   ]
  },
  {
   "cell_type": "markdown",
   "metadata": {},
   "source": [
    "### Run follow-up jobs in the same Session (optional)"
   ]
  },
  {
   "cell_type": "code",
   "execution_count": 60,
   "metadata": {},
   "outputs": [
    {
     "name": "stdout",
     "output_type": "stream",
     "text": [
      "cl9pitd4nd4s6h1fo0vg\n"
     ]
    },
    {
     "data": {
      "text/plain": [
       "'ibm_algiers'"
      ]
     },
     "execution_count": 60,
     "metadata": {},
     "output_type": "execute_result"
    }
   ],
   "source": [
    "if 'session_id' in response.json().keys():\n",
    "    session_id=response.json()['session_id']\n",
    "    print(session_id)\n",
    "backend=response.json()['backend']\n",
    "backend"
   ]
  },
  {
   "cell_type": "code",
   "execution_count": 61,
   "metadata": {},
   "outputs": [
    {
     "name": "stdout",
     "output_type": "stream",
     "text": [
      "Job created: {\"id\":\"cl9pivt8f2v32dqep6cg\",\"backend\":\"ibm_algiers\",\"session_id\":\"cl9pitd4nd4s6h1fo0vg\"}\n"
     ]
    }
   ],
   "source": [
    "job_input = {\n",
    "    'program_id': 'sampler',\n",
    "    \"backend\": backend,\n",
    "    \"params\": {\n",
    "        \"circuits\": [qasm_string]*5\n",
    "}}\n",
    "\n",
    "if 'session_id' in response.json().keys():\n",
    "  job_input['session_id'] = session_id\n",
    "  \n",
    "response = requests.post(url, headers=headers, json=job_input)\n",
    "\n",
    "if response.status_code == 200:\n",
    "    job_id = response.json().get('id')\n",
    "    print(\"Job created:\",response.text)\n",
    "else:\n",
    "    print(f\"Error: {response.status_code}\")"
   ]
  },
  {
   "cell_type": "markdown",
   "metadata": {},
   "source": [
    "### Query Websocket for live job update and close Session\n",
    "\n",
    "It is very good practice to close a Session when all jobs are done. This will reduce wait time for subsequent Users. So we will listen for a status change of the last job via websocket and close the Session when done."
   ]
  },
  {
   "cell_type": "code",
   "execution_count": null,
   "metadata": {},
   "outputs": [
    {
     "name": "stdout",
     "output_type": "stream",
     "text": [
      "Received message: Listening to results for job: cn9q5sq1mh9g008yf980\n",
      "\n",
      "WebSocket connection closed.\n",
      "Session cn9q5dxpb7t0008r3wp0 was closed\n"
     ]
    }
   ],
   "source": [
    "import asyncio\n",
    "import websockets\n",
    "\n",
    "with open('token') as file:\n",
    "    api_key=file.read()\n",
    "\n",
    "async def receive_status_updates(api_key):\n",
    "    uri = \"wss://runtime-us-east.quantum-computing.ibm.com/stream/jobs/\"+job_id \n",
    "    extra_headers = {'Authorization': f'Bearer {api_key}'}\n",
    "\n",
    "    async with websockets.connect(uri, extra_headers=extra_headers) as websocket:\n",
    "        while True:\n",
    "            try:\n",
    "                message = await websocket.recv()\n",
    "                print(f\"Received message: {message}\")  \n",
    "            except websockets.exceptions.ConnectionClosed:\n",
    "                print(\"WebSocket connection closed.\")\n",
    "                break\n",
    "\n",
    "await receive_status_updates(api_key)\n",
    "\n",
    "#subsequently closing Session\n",
    "status_result = requests.get(url+'/'+job_id,headers=headers)\n",
    "sessionsurl = 'https://runtime-us-east.quantum-computing.ibm.com/sessions/'+session_id+'/close'\n",
    "\n",
    "if status_result.json()['state']['status']=='Completed':\n",
    "   response = requests.delete(sessionsurl,headers=headers)\n",
    "else:\n",
    "   print('waiting for job to complete before closing Session '+session_id)\n",
    "\n",
    "if response.status_code==204:\n",
    "    print('Session '+session_id+' was closed')"
   ]
  },
  {
   "cell_type": "markdown",
   "metadata": {},
   "source": [
    "## Wait for results"
   ]
  },
  {
   "cell_type": "code",
   "execution_count": 15,
   "metadata": {},
   "outputs": [
    {
     "name": "stdout",
     "output_type": "stream",
     "text": [
      "{'status': 'Completed'} ck6qehjl5r7th0mrmk7g\n"
     ]
    }
   ],
   "source": [
    "status_result = requests.get(url+'/'+job_id,headers=headers)\n",
    "print(status_result.json()['state'],job_id)"
   ]
  },
  {
   "cell_type": "markdown",
   "metadata": {},
   "source": [
    "### Get results"
   ]
  },
  {
   "cell_type": "code",
   "execution_count": 16,
   "metadata": {},
   "outputs": [
    {
     "data": {
      "text/plain": [
       "{'quasi_dists': [{'1': 1.0}],\n",
       " 'metadata': [{'shots': 1024,\n",
       "   'readout_mitigation_overhead': 1.0,\n",
       "   'readout_mitigation_time': 0.06403936599963345}]}"
      ]
     },
     "execution_count": 16,
     "metadata": {},
     "output_type": "execute_result"
    }
   ],
   "source": [
    "response_result= requests.get(url+'/'+job_id+'/results', headers=headers)\n",
    "\n",
    "response_result.json()"
   ]
  },
  {
   "cell_type": "markdown",
   "metadata": {},
   "source": [
    "## Invalidate Token (Optional)"
   ]
  },
  {
   "cell_type": "code",
   "execution_count": 17,
   "metadata": {},
   "outputs": [
    {
     "name": "stdout",
     "output_type": "stream",
     "text": [
      "response ok?: True \n"
     ]
    }
   ],
   "source": [
    "logout_url = 'https://us-east.quantum-computing.cloud.ibm.com/logout'\n",
    "\n",
    "headers = { 'Content-Type': 'application/json',\n",
    "            'Service-CRN': crn_service,\n",
    "            'Authorization':auth_type + ' ' + auth_id}\n",
    "\n",
    "logout_response = requests.post(logout_url, headers=headers)\n",
    "print(\"response ok?:\",logout_response.ok,logout_response.text)"
   ]
  }
 ],
 "metadata": {
  "kernelspec": {
   "display_name": "qiskitEnvironment",
   "language": "python",
   "name": "python3"
  },
  "language_info": {
   "codemirror_mode": {
    "name": "ipython",
    "version": 3
   },
   "file_extension": ".py",
   "mimetype": "text/x-python",
   "name": "python",
   "nbconvert_exporter": "python",
   "pygments_lexer": "ipython3",
   "version": "3.12.0"
  },
  "orig_nbformat": 4,
  "vscode": {
   "interpreter": {
    "hash": "1f34ebf922ea70f2437b8214c42897c80e17c505733c5bc7beb7fdf0e25edb45"
   }
  }
 },
 "nbformat": 4,
 "nbformat_minor": 2
}
