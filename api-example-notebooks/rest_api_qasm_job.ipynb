{
 "cells": [
  {
   "cell_type": "markdown",
   "metadata": {},
   "source": [
    "# Qiskit Runtime REST API query & job submission"
   ]
  },
  {
   "cell_type": "markdown",
   "metadata": {},
   "source": [
    "## Query API without authentication"
   ]
  },
  {
   "cell_type": "code",
   "execution_count": 25,
   "metadata": {},
   "outputs": [
    {
     "data": {
      "text/plain": [
       "['qasm3-runner', 'sampler', 'estimator', 'circuit-runner']"
      ]
     },
     "execution_count": 25,
     "metadata": {},
     "output_type": "execute_result"
    }
   ],
   "source": [
    "import requests\n",
    "\n",
    "url = 'https://runtime-us-east.quantum-computing.ibm.com/programs'\n",
    "response = requests.get(url)\n",
    "\n",
    "if response.status_code == 200:\n",
    "    data = response.json()\n",
    "else:\n",
    "    print(f\"Error: {response.status_code}\")\n",
    "\n",
    "[program['id'] for program in data['programs']]"
   ]
  },
  {
   "cell_type": "markdown",
   "metadata": {},
   "source": [
    "## Get temporary Access token from Auth API via API Token"
   ]
  },
  {
   "cell_type": "code",
   "execution_count": 26,
   "metadata": {},
   "outputs": [],
   "source": [
    "import requests\n",
    "\n",
    "with open('token') as file:\n",
    "    token=file.read()\n",
    "\n",
    "url = 'https://auth.quantum-computing.ibm.com/api/users/loginWithToken'\n",
    "input={'apiToken': token}\n",
    "auth_response = requests.post(url, json=input)\n",
    "auth_id=auth_response.json()['id']"
   ]
  },
  {
   "cell_type": "markdown",
   "metadata": {},
   "source": [
    "## GET available backends"
   ]
  },
  {
   "cell_type": "code",
   "execution_count": 28,
   "metadata": {},
   "outputs": [
    {
     "name": "stdout",
     "output_type": "stream",
     "text": [
      "['simulator_mps', 'simulator_statevector', 'ibm_perth', 'ibmq_qasm_simulator', 'simulator_stabilizer'] ...\n"
     ]
    }
   ],
   "source": [
    "url_backends = 'https://runtime-us-east.quantum-computing.ibm.com/backends'\n",
    "headers = {'Content-Type': 'application/json',\n",
    "            'x-access-token':auth_id}\n",
    "\n",
    "backends_response = requests.get(url_backends, headers=headers)\n",
    "\n",
    "print(backends_response.json()['devices'][:5],\"...\")"
   ]
  },
  {
   "cell_type": "markdown",
   "metadata": {},
   "source": [
    "## Run a job"
   ]
  },
  {
   "cell_type": "markdown",
   "metadata": {},
   "source": [
    "### set up qasm circuit"
   ]
  },
  {
   "cell_type": "code",
   "execution_count": 29,
   "metadata": {},
   "outputs": [],
   "source": [
    "qasm_string='''\n",
    "OPENQASM 3;\n",
    "include \"stdgates.inc\";\n",
    "qreg q[1];\n",
    "creg c[1];\n",
    "x q[0];\n",
    "c[0] = measure q[0]; \n",
    "'''   "
   ]
  },
  {
   "cell_type": "markdown",
   "metadata": {},
   "source": [
    "### run circuit via API"
   ]
  },
  {
   "cell_type": "code",
   "execution_count": 48,
   "metadata": {},
   "outputs": [
    {
     "name": "stdout",
     "output_type": "stream",
     "text": [
      "Job created: {\"id\":\"cn9rrnt0vr7g008m3c40\",\"backend\":\"ibm_kyiv\",\"session_id\":\"cn9rrnt0vr7g008m3c40\"}\n"
     ]
    }
   ],
   "source": [
    "import requests\n",
    "\n",
    "url = 'https://runtime-us-east.quantum-computing.ibm.com/jobs'\n",
    "headers = {'Content-Type': 'application/json','x-access-token':auth_id}\n",
    "job_input = {\n",
    "    'program_id': 'sampler',\n",
    "    \"backend\": 'ibm_kyiv', #Sessions work best with real backends (QCs)\n",
    "    \"hub\": \"ibm-q-internal\",\n",
    "    \"group\": \"dev-sys-software\",\n",
    "    \"project\": \"internal-test\",\n",
    "    \"start_session\": \"True\", #set to False if you just need to run a single job. When addressing simulators, comment out this line. \n",
    "    \"params\": {\n",
    "        \"circuits\": [qasm_string]*5\n",
    "}}\n",
    "\n",
    "response = requests.post(url, headers=headers, json=job_input)\n",
    "\n",
    "if response.status_code == 200:\n",
    "    job_id = response.json().get('id')\n",
    "    print(\"Job created:\",response.text)\n",
    "else:\n",
    "    print(f\"Error: {response.status_code}\")"
   ]
  },
  {
   "cell_type": "markdown",
   "metadata": {},
   "source": [
    "### Run follow-up jobs in the same Session (optional)"
   ]
  },
  {
   "cell_type": "code",
   "execution_count": 43,
   "metadata": {},
   "outputs": [
    {
     "data": {
      "text/plain": [
       "['cn9q5dxpb7t0008r3wp0', 'ibm_kyiv']"
      ]
     },
     "execution_count": 43,
     "metadata": {},
     "output_type": "execute_result"
    }
   ],
   "source": [
    "session_id=response.json()['session_id']\n",
    "backend=response.json()['backend']\n",
    "[session_id,backend]"
   ]
  },
  {
   "cell_type": "code",
   "execution_count": 45,
   "metadata": {},
   "outputs": [
    {
     "name": "stdout",
     "output_type": "stream",
     "text": [
      "Job created: {\"id\":\"cn9q5sq1mh9g008yf980\",\"backend\":\"ibm_kyiv\",\"session_id\":\"cn9q5dxpb7t0008r3wp0\"}\n"
     ]
    }
   ],
   "source": [
    "headers = {'Content-Type': 'application/json','x-access-token':auth_id}\n",
    "job_input = {\n",
    "    'program_id': 'sampler',\n",
    "    \"backend\": backend,\n",
    "    \"hub\": \"ibm-q-internal\",\n",
    "    \"group\": \"dev-sys-software\",\n",
    "    \"project\": \"internal-test\",\n",
    "    \"session_id\": session_id,\n",
    "    \"params\": {\n",
    "        \"circuits\": [qasm_string]*5\n",
    "}}\n",
    "\n",
    "response = requests.post(url, headers=headers, json=job_input)\n",
    "\n",
    "if response.status_code == 200:\n",
    "    job_id = response.json().get('id')\n",
    "    print(\"Job created:\",response.text)\n",
    "else:\n",
    "    print(f\"Error: {response.status_code}\")"
   ]
  },
  {
   "cell_type": "markdown",
   "metadata": {},
   "source": [
    "### Query Websocket for live job update and close Session\n",
    "\n",
    "It is very good practice to close a Session when all jobs are done. This will reduce wait time for subsequent Users. So we will listen for a status change of the last job via websocket and close the Session when done."
   ]
  },
  {
   "cell_type": "code",
   "execution_count": 49,
   "metadata": {},
   "outputs": [
    {
     "name": "stdout",
     "output_type": "stream",
     "text": [
      "Received message: Listening to results for job: cn9rrnt0vr7g008m3c40\n",
      "\n",
      "WebSocket connection closed.\n",
      "Session cn9q5dxpb7t0008r3wp0 was closed\n"
     ]
    }
   ],
   "source": [
    "import asyncio\n",
    "import websockets\n",
    "\n",
    "with open('token') as file:\n",
    "    api_key=file.read()\n",
    "\n",
    "async def receive_status_updates(api_key):\n",
    "    uri = \"wss://runtime-us-east.quantum-computing.ibm.com/stream/jobs/\"+job_id \n",
    "    extra_headers = {'Authorization': f'Bearer {api_key}'}\n",
    "\n",
    "    async with websockets.connect(uri, extra_headers=extra_headers) as websocket:\n",
    "        while True:\n",
    "            try:\n",
    "                message = await websocket.recv()\n",
    "                print(f\"Received message: {message}\")  \n",
    "            except websockets.exceptions.ConnectionClosed:\n",
    "                print(\"WebSocket connection closed.\")\n",
    "                break\n",
    "\n",
    "await receive_status_updates(api_key)\n",
    "\n",
    "#subsequently closing Session\n",
    "status_result = requests.get(url+'/'+job_id,headers=headers)\n",
    "sessionsurl = 'https://runtime-us-east.quantum-computing.ibm.com/sessions/'+session_id+'/close'\n",
    "\n",
    "if status_result.json()['state']['status']=='Completed':\n",
    "   response = requests.delete(sessionsurl,headers=headers)\n",
    "else:\n",
    "   print('waiting for job to complete before closing Session '+session_id)\n",
    "\n",
    "if response.status_code==204:\n",
    "    print('Session '+session_id+' was closed')"
   ]
  },
  {
   "cell_type": "markdown",
   "metadata": {},
   "source": [
    "### Get results"
   ]
  },
  {
   "cell_type": "code",
   "execution_count": 47,
   "metadata": {},
   "outputs": [
    {
     "data": {
      "text/plain": [
       "{'quasi_dists': [{'0': 0.003022889032675519, '1': 0.9969771109673246},\n",
       "  {'0': 0.0002426399223552338, '1': 0.9997573600776448},\n",
       "  {'0': 0.0004953898414752601, '1': 0.9995046101585248},\n",
       "  {'0': 0.0004953898414752601, '1': 0.9995046101585248},\n",
       "  {'0': 0.003528388870915572, '1': 0.9964716111290844}],\n",
       " 'metadata': [{'shots': 4000,\n",
       "   'circuit_metadata': {},\n",
       "   'readout_mitigation_overhead': 1.0357391689128672,\n",
       "   'readout_mitigation_time': 0.042210309067741036},\n",
       "  {'shots': 4000,\n",
       "   'circuit_metadata': {},\n",
       "   'readout_mitigation_overhead': 1.0357391689128672,\n",
       "   'readout_mitigation_time': 0.09641426499001682},\n",
       "  {'shots': 4000,\n",
       "   'circuit_metadata': {},\n",
       "   'readout_mitigation_overhead': 1.0357391689128672,\n",
       "   'readout_mitigation_time': 0.0003738719969987869},\n",
       "  {'shots': 4000,\n",
       "   'circuit_metadata': {},\n",
       "   'readout_mitigation_overhead': 1.0357391689128672,\n",
       "   'readout_mitigation_time': 0.0003721269313246012},\n",
       "  {'shots': 4000,\n",
       "   'circuit_metadata': {},\n",
       "   'readout_mitigation_overhead': 1.0357391689128672,\n",
       "   'readout_mitigation_time': 0.09532034292351454}]}"
      ]
     },
     "execution_count": 47,
     "metadata": {},
     "output_type": "execute_result"
    }
   ],
   "source": [
    "response_result= requests.get(url+'/'+job_id+'/results', headers=headers)\n",
    "\n",
    "response_result.json()"
   ]
  },
  {
   "cell_type": "markdown",
   "metadata": {},
   "source": [
    "## Invalidate Token"
   ]
  },
  {
   "cell_type": "code",
   "execution_count": 22,
   "metadata": {},
   "outputs": [
    {
     "name": "stdout",
     "output_type": "stream",
     "text": [
      "response ok?: True \n"
     ]
    }
   ],
   "source": [
    "logout_url = 'https://auth.quantum-computing.ibm.com/api/users/logout'\n",
    "headers = {'x-access-token':auth_id}\n",
    "logout_response = requests.post(logout_url, headers=headers)\n",
    "print(\"response ok?:\",logout_response.ok,logout_response.text)"
   ]
  },
  {
   "cell_type": "markdown",
   "metadata": {},
   "source": [
    "## Test Token Invalidation\n",
    "\n",
    "This should yield an Authoritzation error (Error 401) once access token is invalidated"
   ]
  },
  {
   "cell_type": "code",
   "execution_count": 23,
   "metadata": {},
   "outputs": [
    {
     "name": "stdout",
     "output_type": "stream",
     "text": [
      "{\"errors\":[{\"code\":1201,\"message\":\"Invalid credentials.\",\"solution\":\"Verify your credentials and try again.\",\"more_info\":\"https://docs.quantum-computing.ibm.com/errors\"}]} \n",
      "\n",
      "Error: 401\n"
     ]
    }
   ],
   "source": [
    "rl = 'https://runtime-us-east.quantum-computing.ibm.com/jobs'\n",
    "headers = {'Content-Type': 'application/json','x-access-token':auth_id}\n",
    "job_input = {\n",
    "    'program_id': 'sampler',\n",
    "    \"backend\": 'ibmq_qasm_simulator',\n",
    "    \"hub\": \"ibm-q-internal\",\n",
    "    \"group\": \"dev-sys-software\",\n",
    "    \"project\": \"internal-test\",\n",
    "    \"params\": {\n",
    "        \"circuits\": [qasm_string]\n",
    "}}\n",
    "\n",
    "response = requests.post(url, headers=headers, json=job_input)\n",
    "\n",
    "if response.status_code == 200:\n",
    "    job_id = response.json().get('id')\n",
    "    print(\"Job created:\",response.text)\n",
    "else:\n",
    "    print(response.text,\"\\n\")\n",
    "    print(f\"Error: {response.status_code}\")"
   ]
  }
 ],
 "metadata": {
  "kernelspec": {
   "display_name": "qiskitEnvironment",
   "language": "python",
   "name": "python3"
  },
  "language_info": {
   "codemirror_mode": {
    "name": "ipython",
    "version": 3
   },
   "file_extension": ".py",
   "mimetype": "text/x-python",
   "name": "python",
   "nbconvert_exporter": "python",
   "pygments_lexer": "ipython3",
   "version": "3.12.0"
  },
  "orig_nbformat": 4,
  "vscode": {
   "interpreter": {
    "hash": "1f34ebf922ea70f2437b8214c42897c80e17c505733c5bc7beb7fdf0e25edb45"
   }
  }
 },
 "nbformat": 4,
 "nbformat_minor": 2
}
