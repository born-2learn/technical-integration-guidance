{
 "cells": [
  {
   "cell_type": "markdown",
   "metadata": {},
   "source": [
    "# Qiskit Runtime REST API query & job submission"
   ]
  },
  {
   "cell_type": "markdown",
   "metadata": {},
   "source": [
    "## Query API without authentication"
   ]
  },
  {
   "cell_type": "code",
   "execution_count": 1,
   "metadata": {},
   "outputs": [
    {
     "data": {
      "text/plain": [
       "['qasm3-runner', 'sampler', 'estimator', 'circuit-runner']"
      ]
     },
     "execution_count": 1,
     "metadata": {},
     "output_type": "execute_result"
    }
   ],
   "source": [
    "import requests\n",
    "\n",
    "url = 'https://runtime-us-east.quantum-computing.ibm.com/programs'\n",
    "response = requests.get(url)\n",
    "\n",
    "if response.status_code == 200:\n",
    "    data = response.json()\n",
    "else:\n",
    "    print(f\"Error: {response.status_code}\")\n",
    "\n",
    "[program['id'] for program in data['programs']]"
   ]
  },
  {
   "cell_type": "markdown",
   "metadata": {},
   "source": [
    "## Get temporary Access token from Auth API via API Token"
   ]
  },
  {
   "cell_type": "code",
   "execution_count": 2,
   "metadata": {},
   "outputs": [],
   "source": [
    "import requests\n",
    "\n",
    "with open('token') as file:\n",
    "    token=file.read()\n",
    "\n",
    "url = 'https://auth.quantum-computing.ibm.com/api/users/loginWithToken'\n",
    "input={'apiToken': token}\n",
    "auth_response = requests.post(url, json=input)\n",
    "auth_id=auth_response.json()['id']"
   ]
  },
  {
   "cell_type": "markdown",
   "metadata": {},
   "source": [
    "## GET available backends"
   ]
  },
  {
   "cell_type": "code",
   "execution_count": 3,
   "metadata": {},
   "outputs": [
    {
     "name": "stdout",
     "output_type": "stream",
     "text": [
      "['ibmq_qasm_simulator', 'ibmq_qasm_simulator', 'simulator_extended_stabilizer', 'simulator_statevector', 'simulator_mps'] ...\n"
     ]
    }
   ],
   "source": [
    "url_backends = 'https://runtime-us-east.quantum-computing.ibm.com/backends'\n",
    "headers = {'Content-Type': 'application/json',\n",
    "            'x-access-token':auth_id}\n",
    "\n",
    "backends_response = requests.get(url_backends, headers=headers)\n",
    "\n",
    "print(backends_response.json()['devices'][:5],\"...\")"
   ]
  },
  {
   "cell_type": "markdown",
   "metadata": {},
   "source": [
    "## Run a job"
   ]
  },
  {
   "cell_type": "markdown",
   "metadata": {},
   "source": [
    "### set up qasm circuit"
   ]
  },
  {
   "cell_type": "code",
   "execution_count": 4,
   "metadata": {},
   "outputs": [],
   "source": [
    "qasm_string='''\n",
    "OPENQASM 3;\n",
    "include \"stdgates.inc\";\n",
    "qreg q[1];\n",
    "creg c[1];\n",
    "x q[0];\n",
    "c[0] = measure q[0]; \n",
    "'''   "
   ]
  },
  {
   "cell_type": "markdown",
   "metadata": {},
   "source": [
    "### run circuit via API"
   ]
  },
  {
   "cell_type": "code",
   "execution_count": 5,
   "metadata": {},
   "outputs": [
    {
     "name": "stdout",
     "output_type": "stream",
     "text": [
      "Job created: {\"id\":\"cn4dg6g3r3vg008f9mwg\",\"backend\":\"ibm_kyiv\",\"session_id\":\"cn4dg6g3r3vg008f9mwg\"}\n"
     ]
    }
   ],
   "source": [
    "import requests\n",
    "\n",
    "url = 'https://runtime-us-east.quantum-computing.ibm.com/jobs'\n",
    "headers = {'Content-Type': 'application/json','x-access-token':auth_id}\n",
    "job_input = {\n",
    "    'program_id': 'sampler',\n",
    "    \"backend\": 'ibm_kyiv',\n",
    "    \"hub\": \"ibm-q-internal\",\n",
    "    \"group\": \"dev-sys-software\",\n",
    "    \"project\": \"internal-test\",\n",
    "    \"start_session\": \"True\", #set to False if you just need to run a single job\n",
    "    \"params\": {\n",
    "        \"circuits\": [qasm_string]*5\n",
    "}}\n",
    "\n",
    "response = requests.post(url, headers=headers, json=job_input)\n",
    "\n",
    "if response.status_code == 200:\n",
    "    job_id = response.json().get('id')\n",
    "    print(\"Job created:\",response.text)\n",
    "else:\n",
    "    print(f\"Error: {response.status_code}\")"
   ]
  },
  {
   "cell_type": "markdown",
   "metadata": {},
   "source": [
    "### Run follow-up jobs in the same Session"
   ]
  },
  {
   "cell_type": "code",
   "execution_count": null,
   "metadata": {},
   "outputs": [],
   "source": [
    "session_id = job_id #any Qiskit Runtime Session carries the ID of the first job"
   ]
  },
  {
   "cell_type": "code",
   "execution_count": 7,
   "metadata": {},
   "outputs": [
    {
     "name": "stdout",
     "output_type": "stream",
     "text": [
      "Job created: {\"id\":\"cn4dgs3vayrg008en3ag\",\"backend\":\"ibm_kyiv\",\"session_id\":\"cn4dg6g3r3vg008f9mwg\"}\n"
     ]
    }
   ],
   "source": [
    "headers = {'Content-Type': 'application/json','x-access-token':auth_id}\n",
    "job_input = {\n",
    "    'program_id': 'sampler',\n",
    "    \"backend\": 'ibm_kyiv',\n",
    "    \"hub\": \"ibm-q-internal\",\n",
    "    \"group\": \"dev-sys-software\",\n",
    "    \"project\": \"internal-test\",\n",
    "    \"session_id\": session_id,\n",
    "    \"params\": {\n",
    "        \"circuits\": [qasm_string]*5\n",
    "}}\n",
    "\n",
    "response = requests.post(url, headers=headers, json=job_input)\n",
    "\n",
    "if response.status_code == 200:\n",
    "    job_id = response.json().get('id')\n",
    "    print(\"Job created:\",response.text)\n",
    "else:\n",
    "    print(f\"Error: {response.status_code}\")"
   ]
  },
  {
   "cell_type": "markdown",
   "metadata": {},
   "source": [
    "### Query Websocket for live job update"
   ]
  },
  {
   "cell_type": "code",
   "execution_count": 88,
   "metadata": {},
   "outputs": [
    {
     "name": "stdout",
     "output_type": "stream",
     "text": [
      "Received message: Listening to results for job: ckr4vtnnetonc3t62v5g\n",
      "\n",
      "Received message: {\"quasi_dists\": [{\"1\": 1.0}, {\"1\": 1.0}, {\"1\": 1.0}, {\"1\": 1.0}, {\"1\": 1.0}], \"metadata\": [{\"shots\": 1024, \"readout_mitigation_overhead\": 1.0, \"readout_mitigation_time\": 0.04957489899970824, \"circuit_metadata\": {}}, {\"shots\": 1024, \"readout_mitigation_overhead\": 1.0, \"readout_mitigation_time\": 0.021988247004628647, \"circuit_metadata\": {}}, {\"shots\": 1024, \"readout_mitigation_overhead\": 1.0, \"readout_mitigation_time\": 0.03040369199879933, \"circuit_metadata\": {}}, {\"shots\": 1024, \"readout_mitigation_overhead\": 1.0, \"readout_mitigation_time\": 0.03431434999947669, \"circuit_metadata\": {}}, {\"shots\": 1024, \"readout_mitigation_overhead\": 1.0, \"readout_mitigation_time\": 0.022905523001099937, \"circuit_metadata\": {}}]}\n",
      "WebSocket connection closed.\n"
     ]
    }
   ],
   "source": [
    "import asyncio\n",
    "import websockets\n",
    "\n",
    "with open('token') as file:\n",
    "    api_key=file.read()\n",
    "\n",
    "async def receive_status_updates(api_key):\n",
    "    uri = \"wss://runtime-us-east.quantum-computing.ibm.com/stream/jobs/\"+job_id \n",
    "    extra_headers = {'Authorization': f'Bearer {api_key}'}\n",
    "\n",
    "    async with websockets.connect(uri, extra_headers=extra_headers) as websocket:\n",
    "        while True:\n",
    "            try:\n",
    "                message = await websocket.recv()\n",
    "                print(f\"Received message: {message}\")  \n",
    "            except websockets.exceptions.ConnectionClosed:\n",
    "                print(\"WebSocket connection closed.\")\n",
    "                #await asyncio.sleep(5)  # Wait before attempting to reconnect\n",
    "                break\n",
    "\n",
    "await receive_status_updates(api_key)"
   ]
  },
  {
   "cell_type": "markdown",
   "metadata": {},
   "source": [
    "## Check job status"
   ]
  },
  {
   "cell_type": "code",
   "execution_count": 89,
   "metadata": {},
   "outputs": [
    {
     "name": "stdout",
     "output_type": "stream",
     "text": [
      "{'status': 'Completed'} ckr4vtnnetonc3t62v5g\n"
     ]
    }
   ],
   "source": [
    "status_result = requests.get(url+'/'+job_id,headers=headers)\n",
    "print(status_result.json()['state'],job_id)"
   ]
  },
  {
   "cell_type": "markdown",
   "metadata": {},
   "source": [
    "### Get results"
   ]
  },
  {
   "cell_type": "code",
   "execution_count": 90,
   "metadata": {},
   "outputs": [
    {
     "data": {
      "text/plain": [
       "{'quasi_dists': [{'1': 1.0}, {'1': 1.0}, {'1': 1.0}, {'1': 1.0}, {'1': 1.0}],\n",
       " 'metadata': [{'shots': 1024,\n",
       "   'readout_mitigation_overhead': 1.0,\n",
       "   'readout_mitigation_time': 0.04957489899970824,\n",
       "   'circuit_metadata': {}},\n",
       "  {'shots': 1024,\n",
       "   'readout_mitigation_overhead': 1.0,\n",
       "   'readout_mitigation_time': 0.021988247004628647,\n",
       "   'circuit_metadata': {}},\n",
       "  {'shots': 1024,\n",
       "   'readout_mitigation_overhead': 1.0,\n",
       "   'readout_mitigation_time': 0.03040369199879933,\n",
       "   'circuit_metadata': {}},\n",
       "  {'shots': 1024,\n",
       "   'readout_mitigation_overhead': 1.0,\n",
       "   'readout_mitigation_time': 0.03431434999947669,\n",
       "   'circuit_metadata': {}},\n",
       "  {'shots': 1024,\n",
       "   'readout_mitigation_overhead': 1.0,\n",
       "   'readout_mitigation_time': 0.022905523001099937,\n",
       "   'circuit_metadata': {}}]}"
      ]
     },
     "execution_count": 90,
     "metadata": {},
     "output_type": "execute_result"
    }
   ],
   "source": [
    "response_result= requests.get(url+'/'+job_id+'/results', headers=headers)\n",
    "\n",
    "response_result.json()"
   ]
  },
  {
   "cell_type": "markdown",
   "metadata": {},
   "source": [
    "## Invalidate Token"
   ]
  },
  {
   "cell_type": "code",
   "execution_count": 91,
   "metadata": {},
   "outputs": [
    {
     "name": "stdout",
     "output_type": "stream",
     "text": [
      "response ok?: True \n"
     ]
    }
   ],
   "source": [
    "logout_url = 'https://auth.quantum-computing.ibm.com/api/users/logout'\n",
    "headers = {'x-access-token':auth_id}\n",
    "logout_response = requests.post(logout_url, headers=headers)\n",
    "print(\"response ok?:\",logout_response.ok,logout_response.text)"
   ]
  },
  {
   "cell_type": "markdown",
   "metadata": {},
   "source": [
    "## Test Token Invalidation\n",
    "\n",
    "This should yield an Authoritzation error (Error 401) once access token is invalidated"
   ]
  },
  {
   "cell_type": "code",
   "execution_count": 92,
   "metadata": {},
   "outputs": [
    {
     "name": "stdout",
     "output_type": "stream",
     "text": [
      "{\"errors\":[{\"code\":1201,\"message\":\"Invalid credentials.\",\"solution\":\"Verify your credentials and try again.\",\"more_info\":\"https://docs.quantum-computing.ibm.com/errors\"}]} \n",
      "\n",
      "Error: 401\n"
     ]
    }
   ],
   "source": [
    "rl = 'https://runtime-us-east.quantum-computing.ibm.com/jobs'\n",
    "headers = {'Content-Type': 'application/json','x-access-token':auth_id}\n",
    "job_input = {\n",
    "    'program_id': 'sampler',\n",
    "    \"backend\": 'ibmq_qasm_simulator',\n",
    "    \"hub\": \"ibm-q-internal\",\n",
    "    \"group\": \"dev-sys-software\",\n",
    "    \"project\": \"internal-test\",\n",
    "    \"params\": {\n",
    "        \"circuits\": [qasm_string]\n",
    "}}\n",
    "\n",
    "response = requests.post(url, headers=headers, json=job_input)\n",
    "\n",
    "if response.status_code == 200:\n",
    "    job_id = response.json().get('id')\n",
    "    print(\"Job created:\",response.text)\n",
    "else:\n",
    "    print(response.text,\"\\n\")\n",
    "    print(f\"Error: {response.status_code}\")"
   ]
  }
 ],
 "metadata": {
  "kernelspec": {
   "display_name": "qiskitEnvironment",
   "language": "python",
   "name": "python3"
  },
  "language_info": {
   "codemirror_mode": {
    "name": "ipython",
    "version": 3
   },
   "file_extension": ".py",
   "mimetype": "text/x-python",
   "name": "python",
   "nbconvert_exporter": "python",
   "pygments_lexer": "ipython3",
   "version": "3.12.0"
  },
  "orig_nbformat": 4,
  "vscode": {
   "interpreter": {
    "hash": "1f34ebf922ea70f2437b8214c42897c80e17c505733c5bc7beb7fdf0e25edb45"
   }
  }
 },
 "nbformat": 4,
 "nbformat_minor": 2
}
