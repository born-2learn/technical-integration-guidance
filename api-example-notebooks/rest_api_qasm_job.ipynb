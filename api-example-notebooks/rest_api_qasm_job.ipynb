{
 "cells": [
  {
   "cell_type": "markdown",
   "metadata": {},
   "source": [
    "# Qiskit Runtime REST API query & job submission"
   ]
  },
  {
   "cell_type": "markdown",
   "metadata": {},
   "source": [
    "## Query API without authentication"
   ]
  },
  {
   "cell_type": "code",
   "execution_count": 12,
   "metadata": {},
   "outputs": [
    {
     "data": {
      "text/plain": [
       "['qasm3-runner', 'sampler', 'estimator', 'circuit-runner']"
      ]
     },
     "execution_count": 12,
     "metadata": {},
     "output_type": "execute_result"
    }
   ],
   "source": [
    "import requests\n",
    "\n",
    "url = 'https://runtime-us-east.quantum-computing.ibm.com/programs'\n",
    "response = requests.get(url)\n",
    "\n",
    "if response.status_code == 200:\n",
    "    data = response.json()\n",
    "else:\n",
    "    print(f\"Error: {response.status_code}\")\n",
    "\n",
    "[program['id'] for program in data['programs']]"
   ]
  },
  {
   "cell_type": "markdown",
   "metadata": {},
   "source": [
    "## Get temporary Access token from Auth API via API Token"
   ]
  },
  {
   "cell_type": "code",
   "execution_count": 13,
   "metadata": {},
   "outputs": [],
   "source": [
    "import requests\n",
    "\n",
    "with open('token') as file:\n",
    "    token=file.read()\n",
    "\n",
    "url = 'https://auth.quantum-computing.ibm.com/api/users/loginWithToken'\n",
    "input={'apiToken': token}\n",
    "auth_response = requests.post(url, json=input)\n",
    "auth_id=auth_response.json()['id']"
   ]
  },
  {
   "cell_type": "markdown",
   "metadata": {},
   "source": [
    "## GET available backends"
   ]
  },
  {
   "cell_type": "code",
   "execution_count": 14,
   "metadata": {},
   "outputs": [
    {
     "name": "stdout",
     "output_type": "stream",
     "text": [
      "['simulator_stabilizer', 'simulator_extended_stabilizer', 'ibmq_qasm_simulator', 'ibm_nairobi', 'ibm_lagos'] ...\n"
     ]
    }
   ],
   "source": [
    "url_backends = 'https://runtime-us-east.quantum-computing.ibm.com/backends'\n",
    "headers = {'Content-Type': 'application/json',\n",
    "            'x-access-token':auth_id}\n",
    "\n",
    "backends_response = requests.get(url_backends, headers=headers)\n",
    "\n",
    "print(backends_response.json()['devices'][:5],\"...\")"
   ]
  },
  {
   "cell_type": "markdown",
   "metadata": {},
   "source": [
    "## Run a job"
   ]
  },
  {
   "cell_type": "markdown",
   "metadata": {},
   "source": [
    "### set up qasm circuit"
   ]
  },
  {
   "cell_type": "code",
   "execution_count": 15,
   "metadata": {},
   "outputs": [],
   "source": [
    "qasm_string='''\n",
    "OPENQASM 3;\n",
    "include \"stdgates.inc\";\n",
    "qreg q[1];\n",
    "creg c[1];\n",
    "x q[0];\n",
    "c[0] = measure q[0]; \n",
    "'''   "
   ]
  },
  {
   "cell_type": "markdown",
   "metadata": {},
   "source": [
    "### run circuit via API"
   ]
  },
  {
   "cell_type": "code",
   "execution_count": 17,
   "metadata": {},
   "outputs": [
    {
     "name": "stdout",
     "output_type": "stream",
     "text": [
      "Job created: {\"id\":\"cn9pzc51mh9g008yf8y0\",\"backend\":\"ibm_kyiv\",\"session_id\":\"cn9pzc51mh9g008yf8y0\"}\n"
     ]
    }
   ],
   "source": [
    "import requests\n",
    "\n",
    "url = 'https://runtime-us-east.quantum-computing.ibm.com/jobs'\n",
    "headers = {'Content-Type': 'application/json','x-access-token':auth_id}\n",
    "job_input = {\n",
    "    'program_id': 'sampler',\n",
    "    \"backend\": 'ibm_kyiv',\n",
    "    \"hub\": \"ibm-q-internal\",\n",
    "    \"group\": \"dev-sys-software\",\n",
    "    \"project\": \"internal-test\",\n",
    "    \"start_session\": \"True\", #set to False if you just need to run a single job\n",
    "    \"params\": {\n",
    "        \"circuits\": [qasm_string]*5\n",
    "}}\n",
    "\n",
    "response = requests.post(url, headers=headers, json=job_input)\n",
    "\n",
    "if response.status_code == 200:\n",
    "    job_id = response.json().get('id')\n",
    "    print(\"Job created:\",response.text)\n",
    "else:\n",
    "    print(f\"Error: {response.status_code}\")"
   ]
  },
  {
   "cell_type": "code",
   "execution_count": 18,
   "metadata": {},
   "outputs": [
    {
     "data": {
      "text/plain": [
       "'cn9pzc51mh9g008yf8y0'"
      ]
     },
     "execution_count": 18,
     "metadata": {},
     "output_type": "execute_result"
    }
   ],
   "source": [
    "session_id=response.json()['session_id']\n",
    "session_id"
   ]
  },
  {
   "cell_type": "markdown",
   "metadata": {},
   "source": [
    "### Run follow-up jobs in the same Session"
   ]
  },
  {
   "cell_type": "code",
   "execution_count": 19,
   "metadata": {},
   "outputs": [
    {
     "name": "stdout",
     "output_type": "stream",
     "text": [
      "Job created: {\"id\":\"cl9mvg16mcdhud5g0v3g\",\"backend\":\"ibmq_qasm_simulator\",\"session_id\":\"cn9pzc51mh9g008yf8y0\"}\n"
     ]
    }
   ],
   "source": [
    "headers = {'Content-Type': 'application/json','x-access-token':auth_id}\n",
    "job_input = {\n",
    "    'program_id': 'sampler',\n",
    "    \"backend\": 'ibmq_qasm_simulator',\n",
    "    \"hub\": \"ibm-q-internal\",\n",
    "    \"group\": \"dev-sys-software\",\n",
    "    \"project\": \"internal-test\",\n",
    "    \"session_id\": session_id,\n",
    "    \"params\": {\n",
    "        \"circuits\": [qasm_string]*5\n",
    "}}\n",
    "\n",
    "response = requests.post(url, headers=headers, json=job_input)\n",
    "\n",
    "if response.status_code == 200:\n",
    "    job_id = response.json().get('id')\n",
    "    print(\"Job created:\",response.text)\n",
    "else:\n",
    "    print(f\"Error: {response.status_code}\")"
   ]
  },
  {
   "cell_type": "markdown",
   "metadata": {},
   "source": [
    "### Query Websocket for live job update and close Session\n",
    "\n",
    "It is very good practice to close a Session when all jobs are done. This will reduce wait time for subsequent Users. So we will listen for a status change of the last job via websocket and close the Session when done."
   ]
  },
  {
   "cell_type": "code",
   "execution_count": 20,
   "metadata": {},
   "outputs": [
    {
     "name": "stdout",
     "output_type": "stream",
     "text": [
      "Received message: Job is not running. Job status is 'Completed', reason is ''.  Check '/jobs/cl9mvg16mcdhud5g0v3g/results' for results\n",
      "WebSocket connection closed.\n",
      "Session cn9pzc51mh9g008yf8y0 was closed\n"
     ]
    }
   ],
   "source": [
    "import asyncio\n",
    "import websockets\n",
    "\n",
    "with open('token') as file:\n",
    "    api_key=file.read()\n",
    "\n",
    "async def receive_status_updates(api_key):\n",
    "    uri = \"wss://runtime-us-east.quantum-computing.ibm.com/stream/jobs/\"+job_id \n",
    "    extra_headers = {'Authorization': f'Bearer {api_key}'}\n",
    "\n",
    "    async with websockets.connect(uri, extra_headers=extra_headers) as websocket:\n",
    "        while True:\n",
    "            try:\n",
    "                message = await websocket.recv()\n",
    "                print(f\"Received message: {message}\")  \n",
    "            except websockets.exceptions.ConnectionClosed:\n",
    "                print(\"WebSocket connection closed.\")\n",
    "                break\n",
    "\n",
    "await receive_status_updates(api_key)\n",
    "\n",
    "#subsequently closing Session\n",
    "status_result = requests.get(url+'/'+job_id,headers=headers)\n",
    "sessionsurl = 'https://runtime-us-east.quantum-computing.ibm.com/sessions/'+session_id+'/close'\n",
    "\n",
    "if status_result.json()['state']['status']=='Completed':\n",
    "   response = requests.delete(sessionsurl,headers=headers)\n",
    "else:\n",
    "   print('waiting for job to complete before closing Session '+session_id)\n",
    "\n",
    "if response.status_code==204:\n",
    "    print('Session '+session_id+' was closed')"
   ]
  },
  {
   "cell_type": "markdown",
   "metadata": {},
   "source": [
    "### Get results"
   ]
  },
  {
   "cell_type": "code",
   "execution_count": 21,
   "metadata": {},
   "outputs": [
    {
     "data": {
      "text/plain": [
       "{'quasi_dists': [{'1': 1.0}, {'1': 1.0}, {'1': 1.0}, {'1': 1.0}, {'1': 1.0}],\n",
       " 'metadata': [{'shots': 1024,\n",
       "   'circuit_metadata': {},\n",
       "   'readout_mitigation_overhead': 1.0,\n",
       "   'readout_mitigation_time': 0.07012054900405928},\n",
       "  {'shots': 1024,\n",
       "   'circuit_metadata': {},\n",
       "   'readout_mitigation_overhead': 1.0,\n",
       "   'readout_mitigation_time': 0.049093275010818616},\n",
       "  {'shots': 1024,\n",
       "   'circuit_metadata': {},\n",
       "   'readout_mitigation_overhead': 1.0,\n",
       "   'readout_mitigation_time': 0.049420405994169414},\n",
       "  {'shots': 1024,\n",
       "   'circuit_metadata': {},\n",
       "   'readout_mitigation_overhead': 1.0,\n",
       "   'readout_mitigation_time': 0.043661167001118883},\n",
       "  {'shots': 1024,\n",
       "   'circuit_metadata': {},\n",
       "   'readout_mitigation_overhead': 1.0,\n",
       "   'readout_mitigation_time': 0.04399759098305367}]}"
      ]
     },
     "execution_count": 21,
     "metadata": {},
     "output_type": "execute_result"
    }
   ],
   "source": [
    "response_result= requests.get(url+'/'+job_id+'/results', headers=headers)\n",
    "\n",
    "response_result.json()"
   ]
  },
  {
   "cell_type": "markdown",
   "metadata": {},
   "source": [
    "## Invalidate Token"
   ]
  },
  {
   "cell_type": "code",
   "execution_count": 22,
   "metadata": {},
   "outputs": [
    {
     "name": "stdout",
     "output_type": "stream",
     "text": [
      "response ok?: True \n"
     ]
    }
   ],
   "source": [
    "logout_url = 'https://auth.quantum-computing.ibm.com/api/users/logout'\n",
    "headers = {'x-access-token':auth_id}\n",
    "logout_response = requests.post(logout_url, headers=headers)\n",
    "print(\"response ok?:\",logout_response.ok,logout_response.text)"
   ]
  },
  {
   "cell_type": "markdown",
   "metadata": {},
   "source": [
    "## Test Token Invalidation\n",
    "\n",
    "This should yield an Authoritzation error (Error 401) once access token is invalidated"
   ]
  },
  {
   "cell_type": "code",
   "execution_count": 23,
   "metadata": {},
   "outputs": [
    {
     "name": "stdout",
     "output_type": "stream",
     "text": [
      "{\"errors\":[{\"code\":1201,\"message\":\"Invalid credentials.\",\"solution\":\"Verify your credentials and try again.\",\"more_info\":\"https://docs.quantum-computing.ibm.com/errors\"}]} \n",
      "\n",
      "Error: 401\n"
     ]
    }
   ],
   "source": [
    "rl = 'https://runtime-us-east.quantum-computing.ibm.com/jobs'\n",
    "headers = {'Content-Type': 'application/json','x-access-token':auth_id}\n",
    "job_input = {\n",
    "    'program_id': 'sampler',\n",
    "    \"backend\": 'ibmq_qasm_simulator',\n",
    "    \"hub\": \"ibm-q-internal\",\n",
    "    \"group\": \"dev-sys-software\",\n",
    "    \"project\": \"internal-test\",\n",
    "    \"params\": {\n",
    "        \"circuits\": [qasm_string]\n",
    "}}\n",
    "\n",
    "response = requests.post(url, headers=headers, json=job_input)\n",
    "\n",
    "if response.status_code == 200:\n",
    "    job_id = response.json().get('id')\n",
    "    print(\"Job created:\",response.text)\n",
    "else:\n",
    "    print(response.text,\"\\n\")\n",
    "    print(f\"Error: {response.status_code}\")"
   ]
  }
 ],
 "metadata": {
  "kernelspec": {
   "display_name": "qiskitEnvironment",
   "language": "python",
   "name": "python3"
  },
  "language_info": {
   "codemirror_mode": {
    "name": "ipython",
    "version": 3
   },
   "file_extension": ".py",
   "mimetype": "text/x-python",
   "name": "python",
   "nbconvert_exporter": "python",
   "pygments_lexer": "ipython3",
   "version": "3.12.0"
  },
  "orig_nbformat": 4,
  "vscode": {
   "interpreter": {
    "hash": "1f34ebf922ea70f2437b8214c42897c80e17c505733c5bc7beb7fdf0e25edb45"
   }
  }
 },
 "nbformat": 4,
 "nbformat_minor": 2
}
