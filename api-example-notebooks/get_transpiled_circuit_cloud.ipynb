{
 "cells": [
  {
   "cell_type": "markdown",
   "metadata": {},
   "source": [
    "# Transpiled circuit from IBM Cloud via API query"
   ]
  },
  {
   "cell_type": "markdown",
   "metadata": {},
   "source": [
    "## Get temporary Access token from Auth API via API Token"
   ]
  },
  {
   "cell_type": "code",
   "execution_count": 8,
   "metadata": {},
   "outputs": [],
   "source": [
    "with open('cloud_token') as file:\n",
    "    token=file.read() #or just specify your API token from IBM Cloud here\n",
    "with open('crn_service') as file:\n",
    "    crn_service = file.read() #or just specify your CRN from your IBM Cloud instance here"
   ]
  },
  {
   "cell_type": "code",
   "execution_count": 9,
   "metadata": {},
   "outputs": [],
   "source": [
    "import requests\n",
    "\n",
    "url = 'https://iam.cloud.ibm.com/identity/token'\n",
    "headers = {'Content-Type': 'application/x-www-form-urlencoded'}\n",
    "data='grant_type=urn:ibm:params:oauth:grant-type:apikey&apikey='+token\n",
    "auth_response = requests.post(url, headers= headers, data=data)\n",
    "auth_id=auth_response.json()['access_token']\n",
    "auth_type = auth_response.json()['token_type']"
   ]
  },
  {
   "cell_type": "markdown",
   "metadata": {},
   "source": [
    "## Get transpiled circuit from IBM Cloud Runtime API"
   ]
  },
  {
   "cell_type": "code",
   "execution_count": 10,
   "metadata": {},
   "outputs": [
    {
     "data": {
      "text/plain": [
       "'clecrk8hteu5rj6mk420'"
      ]
     },
     "execution_count": 10,
     "metadata": {},
     "output_type": "execute_result"
    }
   ],
   "source": [
    "#this is just to get your latest job ID, you can just specify a job_id instead\n",
    "from qiskit_ibm_runtime import QiskitRuntimeService\n",
    "service=QiskitRuntimeService(channel=\"ibm_cloud\",instance=crn_service,token=token)\n",
    "job_id=service.jobs()[0].job_id()\n",
    "job_id"
   ]
  },
  {
   "cell_type": "code",
   "execution_count": 11,
   "metadata": {},
   "outputs": [],
   "source": [
    "url = 'https://iam.cloud.ibm.com/identity/token'\n",
    "headers = {'Content-Type': 'application/x-www-form-urlencoded'}\n",
    "data='grant_type=urn:ibm:params:oauth:grant-type:apikey&apikey='+token\n",
    "auth_response = requests.post(url, headers= headers, data=data)\n",
    "auth_id=auth_response.json()['access_token']\n",
    "auth_type = auth_response.json()['token_type']"
   ]
  },
  {
   "cell_type": "code",
   "execution_count": 12,
   "metadata": {},
   "outputs": [],
   "source": [
    "url = 'https://us-east.quantum-computing.cloud.ibm.com/jobs'\n",
    "headers = { 'Content-Type': 'application/json',\n",
    "            'Service-CRN': crn_service,\n",
    "            'Authorization':auth_type + ' ' + auth_id}\n",
    "response_result= requests.get(url+'/'+job_id+'/transpiled_circuits', headers=headers)"
   ]
  },
  {
   "cell_type": "code",
   "execution_count": 13,
   "metadata": {},
   "outputs": [],
   "source": [
    "circuit_download= requests.get(response_result.json()['url'])\n",
    "circuit_qasm = circuit_download.json()['transpiled_circuits']['qasm2']"
   ]
  },
  {
   "cell_type": "code",
   "execution_count": 14,
   "metadata": {},
   "outputs": [
    {
     "data": {
      "image/png": "[encoded data removed]",
      "text/plain": [
       "<Figure size 269.064x200.667 with 1 Axes>"
      ]
     },
     "execution_count": 14,
     "metadata": {},
     "output_type": "execute_result"
    }
   ],
   "source": [
    "from qiskit import QuantumCircuit\n",
    "\n",
    "circuit = QuantumCircuit.from_qasm_str(circuit_qasm[0])\n",
    "circuit.draw()"
   ]
  }
 ],
 "metadata": {
  "kernelspec": {
   "display_name": "qiskitEnvironment",
   "language": "python",
   "name": "python3"
  },
  "language_info": {
   "codemirror_mode": {
    "name": "ipython",
    "version": 3
   },
   "file_extension": ".py",
   "mimetype": "text/x-python",
   "name": "python",
   "nbconvert_exporter": "python",
   "pygments_lexer": "ipython3",
   "version": "3.12.0"
  },
  "orig_nbformat": 4,
  "vscode": {
   "interpreter": {
    "hash": "1f34ebf922ea70f2437b8214c42897c80e17c505733c5bc7beb7fdf0e25edb45"
   }
  }
 },
 "nbformat": 4,
 "nbformat_minor": 2
}
