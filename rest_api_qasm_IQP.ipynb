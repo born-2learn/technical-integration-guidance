{
 "cells": [
  {
   "cell_type": "markdown",
   "metadata": {},
   "source": [
    "# Qiskit Runtime REST API query & job submission"
   ]
  },
  {
   "cell_type": "markdown",
   "metadata": {},
   "source": [
    "## (optional) get temporary Access token from Auth API via API Token"
   ]
  },
  {
   "cell_type": "markdown",
   "metadata": {},
   "source": [
    "This is especially useful if you would like control over tokens, such as token invalidation. Alternatively, you can work directly with your IBM Quantum Platform API token."
   ]
  },
  {
   "cell_type": "code",
   "execution_count": 1,
   "metadata": {},
   "outputs": [],
   "source": [
    "import requests\n",
    "\n",
    "with open('token') as file:\n",
    "    token=file.read()\n",
    "\n",
    "url = 'https://auth.quantum-computing.ibm.com/api/users/loginWithToken'\n",
    "input={'apiToken': token}\n",
    "auth_response = requests.post(url, json=input)\n",
    "auth_id=auth_response.json()['id']"
   ]
  },
  {
   "cell_type": "markdown",
   "metadata": {},
   "source": [
    "## GET available backends"
   ]
  },
  {
   "cell_type": "code",
   "execution_count": 2,
   "metadata": {},
   "outputs": [
    {
     "name": "stdout",
     "output_type": "stream",
     "text": [
      "['ibm_kyoto', 'ibmq_qasm_simulator', 'ibm_sherbrooke', 'ibm_pinguino3', 'ibm_pinguino23'] ...\n"
     ]
    }
   ],
   "source": [
    "url_backends = 'https://api.quantum-computing.ibm.com/runtime/backends'\n",
    "headers = {'Content-Type': 'application/json',\n",
    "            'x-access-token':auth_id}\n",
    "\n",
    "backends_response = requests.get(url_backends, headers=headers)\n",
    "\n",
    "print(backends_response.json()['devices'][:5],\"...\")"
   ]
  },
  {
   "cell_type": "markdown",
   "metadata": {},
   "source": [
    "## Run a job"
   ]
  },
  {
   "cell_type": "markdown",
   "metadata": {},
   "source": [
    "### set up qasm circuit"
   ]
  },
  {
   "cell_type": "code",
   "execution_count": 53,
   "metadata": {},
   "outputs": [],
   "source": [
    "qasm_string='''\n",
    "OPENQASM 3;\n",
    "include \"stdgates.inc\";\n",
    "qreg q[2];\n",
    "creg c[2];\n",
    "x q[0];\n",
    "c[0] = measure q[0]; \n",
    "c[1] = measure q[1];\n",
    "'''   "
   ]
  },
  {
   "cell_type": "markdown",
   "metadata": {},
   "source": [
    "## transpile circuit via transpilation service API\n",
    "\n",
    "Query the cloud Transpilation service at https://cloud-transpiler.quantum-computing.ibm.com/docs . See more details and documentation at https://docs.quantum.ibm.com/transpile/qiskit-transpiler-service . Note that [transpilation is now necessary](https://docs.quantum.ibm.com/announcements/product-updates/2024-02-14-qiskit-runtime-primitives-update) prior to submitting a circuit to IBM Quantum backends. "
   ]
  },
  {
   "cell_type": "code",
   "execution_count": 54,
   "metadata": {},
   "outputs": [],
   "source": [
    "backend='ibm_hanoi'"
   ]
  },
  {
   "cell_type": "code",
   "execution_count": 55,
   "metadata": {},
   "outputs": [],
   "source": [
    "headers = {\n",
    "    \"accept\": \"application/json\",\n",
    "    \"Authorization\": f\"Bearer {token}\",\n",
    "    \"Content-Type\": \"application/json\",\n",
    "        }\n",
    "body= {\n",
    "    \"qasm_circuits\": qasm_string,\n",
    "}\n",
    "params = {\n",
    "        \"backend\": backend,\n",
    "        \"optimization_level\": 1,\n",
    "        \"use_ai\": False,\n",
    "        }\n",
    "\n",
    "resp = requests.post(\n",
    "            \"https://cloud-transpiler.quantum.ibm.com/transpile\",\n",
    "            headers=headers,\n",
    "            json=body,\n",
    "            params=params,\n",
    "        )\n"
   ]
  },
  {
   "cell_type": "code",
   "execution_count": 56,
   "metadata": {},
   "outputs": [
    {
     "data": {
      "text/plain": [
       "'7a38212c-efca-46a3-9a3f-899652274e7b'"
      ]
     },
     "execution_count": 56,
     "metadata": {},
     "output_type": "execute_result"
    }
   ],
   "source": [
    "task_id=resp.json()['task_id']\n",
    "task_id"
   ]
  },
  {
   "cell_type": "markdown",
   "metadata": {},
   "source": [
    "### Request the transpilation service results using the task_id"
   ]
  },
  {
   "cell_type": "code",
   "execution_count": 57,
   "metadata": {},
   "outputs": [
    {
     "name": "stdout",
     "output_type": "stream",
     "text": [
      "{'state': 'SUCCESS', 'result': [{'qasm': 'OPENQASM 3.0; include \"stdgates.inc\"; bit[2] c; x $0; c[0] = measure $0; c[1] = measure $1;', 'success': True, 'layout': {'initial': [0, 1, 2, 3, 4, 5, 6, 7, 8, 9, 10, 11, 12, 13, 14, 15, 16, 17, 18, 19, 20, 21, 22, 23, 24, 25, 26], 'final': [0, 1]}}]}\n"
     ]
    }
   ],
   "source": [
    "res = requests.get(url=f\"https://cloud-transpiler.quantum.ibm.com/transpile/{task_id}\", headers=headers)\n",
    "print(res.json())"
   ]
  },
  {
   "cell_type": "code",
   "execution_count": 58,
   "metadata": {},
   "outputs": [
    {
     "name": "stdout",
     "output_type": "stream",
     "text": [
      "OPENQASM 3.0; include \"stdgates.inc\"; bit[2] c; x $0; c[0] = measure $0; c[1] = measure $1;\n"
     ]
    }
   ],
   "source": [
    "if res.json().get(\"state\") == \"SUCCESS\":\n",
    "    resulting_qasm=res.json().get(\"result\")[0].get(\"qasm\")\n",
    "\n",
    "print(resulting_qasm)"
   ]
  },
  {
   "cell_type": "markdown",
   "metadata": {},
   "source": [
    "### run circuit via API"
   ]
  },
  {
   "cell_type": "markdown",
   "metadata": {},
   "source": [
    "Note the jobs below use Qiskit Runtime V2 primitives. C.f. https://docs.quantum.ibm.com/api/migration-guides/v2-primitives\n",
    "Both SamplerV2 and EstimatorV2 take one or more primitive unified blocs (PUBs) as the input. Each PUB is a tuple that contains one circuit and the data broadcasted to that circuit, which can be multiple observables and parameters. Each PUB returns a result."
   ]
  },
  {
   "cell_type": "code",
   "execution_count": 31,
   "metadata": {},
   "outputs": [
    {
     "name": "stdout",
     "output_type": "stream",
     "text": [
      "Job created: {\"id\":\"crw9cjj7wv80008fgja0\",\"backend\":\"ibm_hanoi\"}\n"
     ]
    }
   ],
   "source": [
    "import requests\n",
    "\n",
    "url = 'https://api.quantum-computing.ibm.com/runtime/jobs'\n",
    "headers = {\n",
    "    'Content-Type': 'application/json',\n",
    "    'x-access-token':auth_id,\n",
    "    'x-qx-client-application': 'qiskit-version-2/0.39.2/'+'your_application' #specifying the application you might be running from. For an actual Integration project, this option it is invaluable to know where jobs are coming from. At this time the \"qiskit-version-2/0.39.2/\" string is a necessary prefix.\n",
    "    }\n",
    "job_input = {\n",
    "    'program_id': 'sampler',\n",
    "    \"backend\": backend, \n",
    "    \"hub\": \"ibm-q-internal\",\n",
    "    \"group\": \"dev-sys-software\",\n",
    "    \"project\": \"internal-test\",\n",
    "    \"start_session\": \"False\", #set to False if you just need to run a single job.  \n",
    "    \"params\": {\n",
    "        \"pubs\": [[resulting_qasm],[resulting_qasm,None,500]], #primitive unified blocs (PUBs) containing one circuit each. c.f. https://docs.quantum.ibm.com/api/migration-guides/v2-primitives\n",
    "        \"version\": 2 #this defines the version of the Qiskit Runtime Primitive to use, c.f. https://docs.quantum.ibm.com/api/migration-guides/v2-primitives\n",
    "}}\n",
    "\n",
    "response = requests.post(url, headers=headers, json=job_input)\n",
    "\n",
    "if response.status_code == 200:\n",
    "    job_id = response.json().get('id')\n",
    "    print(\"Job created:\",response.text)\n",
    "else:\n",
    "    print(f\"Error: {response.status_code}\")"
   ]
  },
  {
   "cell_type": "markdown",
   "metadata": {},
   "source": [
    "### check job status"
   ]
  },
  {
   "cell_type": "code",
   "execution_count": 32,
   "metadata": {},
   "outputs": [
    {
     "data": {
      "text/plain": [
       "{'status': 'Queued', 'reason': '', 'reasonCode': None}"
      ]
     },
     "execution_count": 32,
     "metadata": {},
     "output_type": "execute_result"
    }
   ],
   "source": [
    "response_status_singlejob= requests.get(url+'/'+job_id, headers=headers)\n",
    "response_status_singlejob.json().get('state')"
   ]
  },
  {
   "cell_type": "markdown",
   "metadata": {},
   "source": [
    "### Get job results"
   ]
  },
  {
   "cell_type": "code",
   "execution_count": 12,
   "metadata": {},
   "outputs": [
    {
     "name": "stdout",
     "output_type": "stream",
     "text": [
      "['0x1', '0x1', '0x1', '0x1', '0x1', '0x1', '0x1', '0x1', '0x1', '0x1', '0x1', '0x1', '0x1', '0x1', '0x1', '0x1', '0x1', '0x1', '0x1', '0x1']\n"
     ]
    }
   ],
   "source": [
    "response_result= requests.get(url+'/'+job_id+'/results', headers=headers)\n",
    "\n",
    "res_dict=response_result.json()\n",
    "\n",
    "counts=res_dict['results'][0]['data']['c']['samples']\n",
    "print(counts[:20])"
   ]
  },
  {
   "cell_type": "markdown",
   "metadata": {},
   "source": [
    "#### Convert counts from hexadecimal format"
   ]
  },
  {
   "cell_type": "code",
   "execution_count": 13,
   "metadata": {},
   "outputs": [
    {
     "name": "stdout",
     "output_type": "stream",
     "text": [
      "[1, 1, 1, 1, 1, 1, 1, 1, 1, 1, 1, 1, 1, 1, 1, 1, 1, 1, 1, 1]\n"
     ]
    }
   ],
   "source": [
    "countslist=[int(x,base=16) for x in res_dict['results'][1]['data']['c']['samples']]\n",
    "print(countslist[:20])"
   ]
  },
  {
   "cell_type": "code",
   "execution_count": 14,
   "metadata": {},
   "outputs": [
    {
     "data": {
      "text/plain": [
       "Counter({1: 496, 0: 4})"
      ]
     },
     "execution_count": 14,
     "metadata": {},
     "output_type": "execute_result"
    }
   ],
   "source": [
    "from collections import Counter\n",
    "count_counts=Counter(countslist)\n",
    "count_counts"
   ]
  },
  {
   "cell_type": "markdown",
   "metadata": {},
   "source": [
    "## Create Session \n",
    "\n",
    "c.f. documentation at https://docs.quantum.ibm.com/api/runtime"
   ]
  },
  {
   "cell_type": "code",
   "execution_count": 76,
   "metadata": {},
   "outputs": [
    {
     "name": "stdout",
     "output_type": "stream",
     "text": [
      "{'id': 'crw9kjy7jqmg008zp7mg'}\n"
     ]
    }
   ],
   "source": [
    "import json\n",
    " \n",
    "sessionsUrl = \"https://api.quantum-computing.ibm.com/runtime/sessions\"\n",
    " \n",
    "headersList = {\n",
    "  \"Accept\": \"application/json\",\n",
    "  # \"Authorization\": \"Bearer \"+token,\n",
    "  'x-access-token':auth_id,\n",
    "  \"Content-Type\": \"application/json\" \n",
    "}\n",
    " \n",
    "payload = json.dumps({\n",
    "  \"backend\": backend,\n",
    "  \"instance\": \"ibm-q-internal/dev-sys-software/internal-test\"\n",
    "})\n",
    " \n",
    "response = requests.request(\"POST\", sessionsUrl, data=payload,  headers=headersList)\n",
    " \n",
    "sessionId = response.json()['id']\n",
    " \n",
    "print(response.json())"
   ]
  },
  {
   "cell_type": "markdown",
   "metadata": {},
   "source": [
    "### Submit job(s) against resulting Session ID"
   ]
  },
  {
   "cell_type": "markdown",
   "metadata": {},
   "source": [
    "#### Submit SamplerV2 job to Session"
   ]
  },
  {
   "cell_type": "code",
   "execution_count": 77,
   "metadata": {},
   "outputs": [
    {
     "name": "stdout",
     "output_type": "stream",
     "text": [
      "Job created: {\"id\":\"crw9kkex484g008fc7ng\",\"backend\":\"ibm_hanoi\",\"session_id\":\"crw9kjy7jqmg008zp7mg\"}\n"
     ]
    }
   ],
   "source": [
    "import requests\n",
    "\n",
    "url = 'https://api.quantum-computing.ibm.com/runtime/jobs'\n",
    "headers = {\n",
    "    'Content-Type': 'application/json',\n",
    "    'x-access-token':auth_id,\n",
    "    'x-qx-client-application': 'qiskit-version-2/0.39.2/'+'your_application' #specifying the application you might be running from. For an actual Integration project, this option it is invaluable to know where jobs are coming from. At this time the \"qiskit-version-2/0.39.2/\" string is a necessary prefix.\n",
    "    }\n",
    "\n",
    "job_input = {\n",
    "    'program_id': 'sampler',\n",
    "    \"backend\": backend, \n",
    "    \"hub\": \"ibm-q-internal\",\n",
    "    \"group\": \"dev-sys-software\",\n",
    "    \"project\": \"internal-test\",\n",
    "    \"session_id\": sessionId, # This specifies the previously created Session \n",
    "    \"params\": {\n",
    "        \"pubs\": [[resulting_qasm],[resulting_qasm,None,100]], #primitive unified blocs (PUBs) containing one circuit each. c.f. https://docs.quantum.ibm.com/api/migration-guides/v2-primitives\n",
    "        \"version\": 2, #this defines the version of the Qiskit Runtime Primitive to use, c.f. https://docs.quantum.ibm.com/api/migration-guides/v2-primitives\n",
    "        \"options\":{\n",
    "                \"transpilation\":{\"optimization_level\": 1},\n",
    "                \"twirling\": {\"enable_gates\": True,\"enable_measure\": True}, #c.f. documentation at https://docs.quantum.ibm.com/run/configure-error-mitigation#custom-error-settings-v2-primitives \n",
    "                # \"dynamical_decoupling\": {\"enable\": True, \"sequence_type\": \"XpXm\"},                        \n",
    "                    },\n",
    "\n",
    "}\n",
    "        # \"circuits\": [resulting_qasm] #only use this input for Primitives V1, i.e. \"version\": 1\n",
    "}\n",
    "\n",
    "response = requests.post(url, headers=headers, json=job_input)\n",
    "\n",
    "if response.status_code == 200:\n",
    "    job_id_sampler = response.json().get('id')\n",
    "    print(\"Job created:\",response.text)\n",
    "else:\n",
    "    print(f\"Error: {response.status_code}\")"
   ]
  },
  {
   "cell_type": "markdown",
   "metadata": {},
   "source": [
    "#### Submit EstimatorV2 job to Session"
   ]
  },
  {
   "cell_type": "code",
   "execution_count": 78,
   "metadata": {},
   "outputs": [
    {
     "name": "stdout",
     "output_type": "stream",
     "text": [
      "Job created: {\"id\":\"crw9mk27wv80008fgmf0\",\"backend\":\"ibm_hanoi\",\"session_id\":\"crw9kjy7jqmg008zp7mg\"}\n"
     ]
    }
   ],
   "source": [
    "import requests\n",
    "\n",
    "url = 'https://api.quantum-computing.ibm.com/runtime/jobs'\n",
    "headers = {\n",
    "    'Content-Type': 'application/json',\n",
    "    'x-access-token':auth_id,\n",
    "    'x-qx-client-application': 'qiskit-version-2/0.39.2/'+'your_application' #specifying the application you might be running from. For an actual Integration project, this option it is invaluable to know where jobs are coming from. At this time the \"qiskit-version-2/0.39.2/\" string is a necessary prefix.\n",
    "    }\n",
    "job_input = {\n",
    "    'program_id': 'estimator',\n",
    "    \"backend\": backend, \n",
    "    \"hub\": \"ibm-q-internal\",\n",
    "    \"group\": \"dev-sys-software\",\n",
    "    \"project\": \"internal-test\",\n",
    "    \"session_id\": sessionId, # This specifies the previously created Session\n",
    "    \"params\": {\n",
    "        \"pubs\": [[resulting_qasm,{\"II\": 1, \"ZZ\": 2.3},None,0.01]], #primitive unified blocs (PUBs) containing one circuit each. c.f. https://docs.quantum.ibm.com/api/migration-guides/v2-primitives\n",
    "        \"version\": 2, #this defines the version of the Qiskit Runtime Primitive to use, c.f. https://docs.quantum.ibm.com/api/migration-guides/v2-primitives\n",
    "        \"options\": {\n",
    "            \"transpilation\":{\"optimization_level\": 1},\n",
    "            \"resilience\": {\n",
    "                    \"measure_mitigation\": True, #c.f. documentation at https://docs.quantum.ibm.com/run/configure-error-mitigation#custom-error-settings-v2-primitives \n",
    "                #     # \"measure_noise_learning\": None,\n",
    "                #     # \"zne_mitigation\": None,\n",
    "                #     # \"zne\": None,\n",
    "                #     # \"pec_mitigation\": None,\n",
    "                #     # \"pec\": None,\n",
    "                #     # \"layer_noise_learning\": None,\n",
    "                    },\n",
    "            \"twirling\": {\"enable_gates\": True},\n",
    "            \"dynamical_decoupling\": {\"enable\": False},#, \"sequence_type\": \"XpXm\"},\n",
    "                     \n",
    "                },\n",
    "        # \"resilience_level\": 0,        \n",
    "    }\n",
    "        # \"circuits\": [resulting_qasm] #only use this input for Primitives V1, i.e. \"version\": 1\n",
    "}\n",
    "response = requests.post(url, headers=headers, json=job_input)\n",
    "\n",
    "if response.status_code == 200:\n",
    "    job_id_estimator = response.json().get('id')\n",
    "    print(\"Job created:\",response.text)\n",
    "else:\n",
    "    print(f\"Error: {response.status_code}\")"
   ]
  },
  {
   "cell_type": "markdown",
   "metadata": {},
   "source": [
    "### Get the Job Results"
   ]
  },
  {
   "cell_type": "code",
   "execution_count": 60,
   "metadata": {},
   "outputs": [
    {
     "data": {
      "text/plain": [
       "{'status': 'Completed', 'reason': '', 'reasonCode': None}"
      ]
     },
     "execution_count": 60,
     "metadata": {},
     "output_type": "execute_result"
    }
   ],
   "source": [
    "response_status= requests.get(url+'/'+job_id_sampler, headers=headers)\n",
    "response_status.json().get('state')"
   ]
  },
  {
   "cell_type": "code",
   "execution_count": 61,
   "metadata": {},
   "outputs": [
    {
     "name": "stdout",
     "output_type": "stream",
     "text": [
      "['0x1', '0x1', '0x0', '0x0', '0x0', '0x0', '0x0', '0x1', '0x1', '0x0', '0x0', '0x0', '0x0', '0x0', '0x1', '0x0', '0x0', '0x1', '0x0', '0x0']\n"
     ]
    }
   ],
   "source": [
    "response_sampler = requests.get(url+'/'+job_id_sampler+'/results', headers=headers)\n",
    "res_dict_sampler=response_sampler.json()\n",
    "\n",
    "counts=res_dict_sampler['results'][0]['data']['c']['samples']\n",
    "print(counts[:20])"
   ]
  },
  {
   "cell_type": "code",
   "execution_count": 62,
   "metadata": {},
   "outputs": [
    {
     "data": {
      "text/plain": [
       "{'status': 'Completed', 'reason': '', 'reasonCode': None}"
      ]
     },
     "execution_count": 62,
     "metadata": {},
     "output_type": "execute_result"
    }
   ],
   "source": [
    "response_status= requests.get(url+'/'+job_id_estimator, headers=headers)\n",
    "response_status.json().get('state')\n"
   ]
  },
  {
   "cell_type": "code",
   "execution_count": 63,
   "metadata": {},
   "outputs": [
    {
     "name": "stdout",
     "output_type": "stream",
     "text": [
      "[{'data': {'evs': -1.3206712251052517, 'stds': 0.019759525689619355, 'ensemble_standard_error': 0.0200795395210333}, 'metadata': {'shots': 10016, 'target_precision': 0.01, 'circuit_metadata': {}, 'resilience': {}, 'num_randomizations': 32}}]\n"
     ]
    }
   ],
   "source": [
    "response_estimator = requests.get(url+'/'+job_id_estimator+'/results', headers=headers)\n",
    "res_dict_estimator=response_estimator.json()\n",
    "\n",
    "print(res_dict_estimator['results'])\n"
   ]
  },
  {
   "cell_type": "code",
   "execution_count": 64,
   "metadata": {},
   "outputs": [
    {
     "name": "stdout",
     "output_type": "stream",
     "text": [
      "Expectation value:  -1.3206712251052517\n"
     ]
    }
   ],
   "source": [
    "exp_val=res_dict_estimator['results'][0]['data']['evs']\n",
    "print('Expectation value: ', exp_val)\n"
   ]
  },
  {
   "cell_type": "markdown",
   "metadata": {},
   "source": [
    "### close Session\n",
    "\n",
    "It is very good practice to close a Session when all jobs are done. This will reduce wait time for subsequent Users. Documentation at https://docs.quantum.ibm.com/run/run-jobs-in-session"
   ]
  },
  {
   "cell_type": "code",
   "execution_count": 74,
   "metadata": {},
   "outputs": [
    {
     "name": "stdout",
     "output_type": "stream",
     "text": [
      "Session closure response ok?: True \n"
     ]
    }
   ],
   "source": [
    "closureURL=\"https://api.quantum-computing.ibm.com/runtime/sessions/\"+sessionId+\"/close\"\n",
    "\n",
    "headersList = {\n",
    "  \"Accept\": \"application/json\",\n",
    "  # \"Authorization\": \"Bearer \"+token,\n",
    "  'x-access-token':auth_id,\n",
    "}\n",
    " \n",
    "payload = json.dumps({\n",
    "  # \"backend\": backend\n",
    "  \"instance\": \"ibm-q-internal/dev-sys-software/internal-test\"\n",
    "})\n",
    " \n",
    "closure_response = requests.request(\n",
    "    \"DELETE\",\n",
    "    closureURL, \n",
    "    headers=headersList)\n",
    "\n",
    "print(\"Session closure response ok?:\",closure_response.ok,closure_response.text)"
   ]
  },
  {
   "cell_type": "markdown",
   "metadata": {},
   "source": [
    "## (Optional) Invalidate Token "
   ]
  },
  {
   "cell_type": "code",
   "execution_count": 93,
   "metadata": {},
   "outputs": [
    {
     "name": "stdout",
     "output_type": "stream",
     "text": [
      "response ok?: True \n"
     ]
    }
   ],
   "source": [
    "logout_url = 'https://auth.quantum-computing.ibm.com/api/users/logout'\n",
    "headers = {'x-access-token':auth_id}\n",
    "logout_response = requests.post(logout_url, headers=headers)\n",
    "print(\"response ok?:\",logout_response.ok,logout_response.text)"
   ]
  },
  {
   "cell_type": "markdown",
   "metadata": {},
   "source": [
    "## (Optional) Test Token Invalidation\n",
    "\n",
    "This should yield an Authoritzation error (Error 401) once access token is invalidated"
   ]
  },
  {
   "cell_type": "code",
   "execution_count": 94,
   "metadata": {},
   "outputs": [
    {
     "name": "stdout",
     "output_type": "stream",
     "text": [
      "invalid credentials. Access token should be successfully invalidated.\n"
     ]
    }
   ],
   "source": [
    "logout_url = 'https://auth.quantum-computing.ibm.com/api/users/logout'\n",
    "headers = {'x-access-token':auth_id}\n",
    "logout_response = requests.post(logout_url, headers=headers)\n",
    "\n",
    "if logout_response.status_code == 200:\n",
    "    job_id = logout_response.json().get('id')\n",
    "    print(\"Job created:\",logout_response.text)\n",
    "elif logout_response.status_code == 401:\n",
    "    print(\"invalid credentials. Access token should be successfully invalidated.\")\n",
    "else:\n",
    "    print(logout_response.text,\"\\n\")\n",
    "    print(f\"Error: {logout_response.status_code}\")"
   ]
  }
 ],
 "metadata": {
  "kernelspec": {
   "display_name": "qiskitEnvironment",
   "language": "python",
   "name": "python3"
  },
  "language_info": {
   "codemirror_mode": {
    "name": "ipython",
    "version": 3
   },
   "file_extension": ".py",
   "mimetype": "text/x-python",
   "name": "python",
   "nbconvert_exporter": "python",
   "pygments_lexer": "ipython3",
   "version": "3.12.0"
  },
  "orig_nbformat": 4,
  "vscode": {
   "interpreter": {
    "hash": "1f34ebf922ea70f2437b8214c42897c80e17c505733c5bc7beb7fdf0e25edb45"
   }
  }
 },
 "nbformat": 4,
 "nbformat_minor": 2
}
